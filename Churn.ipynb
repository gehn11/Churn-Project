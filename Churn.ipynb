{
 "cells": [
  {
   "cell_type": "markdown",
   "metadata": {
    "toc": true
   },
   "source": [
    "<h1>Содержание<span class=\"tocSkip\"></span></h1>\n",
    "<div class=\"toc\"><ul class=\"toc-item\"><li><span><a href=\"#Подготовка-данных\" data-toc-modified-id=\"Подготовка-данных-1\"><span class=\"toc-item-num\">1&nbsp;&nbsp;</span>Подготовка данных</a></span><ul class=\"toc-item\"><li><span><a href=\"#Выводы-по-разделу:\" data-toc-modified-id=\"Выводы-по-разделу:-1.1\"><span class=\"toc-item-num\">1.1&nbsp;&nbsp;</span>Выводы по разделу:</a></span></li></ul></li><li><span><a href=\"#Исследование-задачи\" data-toc-modified-id=\"Исследование-задачи-2\"><span class=\"toc-item-num\">2&nbsp;&nbsp;</span>Исследование задачи</a></span><ul class=\"toc-item\"><li><span><a href=\"#Модель-дерева-решений.\" data-toc-modified-id=\"Модель-дерева-решений.-2.1\"><span class=\"toc-item-num\">2.1&nbsp;&nbsp;</span>Модель дерева решений.</a></span></li><li><span><a href=\"#Модель-случайного-леса.\" data-toc-modified-id=\"Модель-случайного-леса.-2.2\"><span class=\"toc-item-num\">2.2&nbsp;&nbsp;</span>Модель случайного леса.</a></span></li><li><span><a href=\"#Модель-логистиеской-регрессии.\" data-toc-modified-id=\"Модель-логистиеской-регрессии.-2.3\"><span class=\"toc-item-num\">2.3&nbsp;&nbsp;</span>Модель логистиеской регрессии.</a></span></li><li><span><a href=\"#Выводы-по-разделу:\" data-toc-modified-id=\"Выводы-по-разделу:-2.4\"><span class=\"toc-item-num\">2.4&nbsp;&nbsp;</span>Выводы по разделу:</a></span></li></ul></li><li><span><a href=\"#Борьба-с-дисбалансом\" data-toc-modified-id=\"Борьба-с-дисбалансом-3\"><span class=\"toc-item-num\">3&nbsp;&nbsp;</span>Борьба с дисбалансом</a></span><ul class=\"toc-item\"><li><span><a href=\"#Upsampling.\" data-toc-modified-id=\"Upsampling.-3.1\"><span class=\"toc-item-num\">3.1&nbsp;&nbsp;</span>Upsampling.</a></span><ul class=\"toc-item\"><li><span><a href=\"#Модель-дерева-решений\" data-toc-modified-id=\"Модель-дерева-решений-3.1.1\"><span class=\"toc-item-num\">3.1.1&nbsp;&nbsp;</span>Модель дерева решений</a></span></li><li><span><a href=\"#Модель-случайного-леса\" data-toc-modified-id=\"Модель-случайного-леса-3.1.2\"><span class=\"toc-item-num\">3.1.2&nbsp;&nbsp;</span>Модель случайного леса</a></span></li><li><span><a href=\"#Модель-логистической-регрессии\" data-toc-modified-id=\"Модель-логистической-регрессии-3.1.3\"><span class=\"toc-item-num\">3.1.3&nbsp;&nbsp;</span>Модель логистической регрессии</a></span></li></ul></li><li><span><a href=\"#Downsampling.\" data-toc-modified-id=\"Downsampling.-3.2\"><span class=\"toc-item-num\">3.2&nbsp;&nbsp;</span>Downsampling.</a></span><ul class=\"toc-item\"><li><span><a href=\"#Модель-дерева-решений\" data-toc-modified-id=\"Модель-дерева-решений-3.2.1\"><span class=\"toc-item-num\">3.2.1&nbsp;&nbsp;</span>Модель дерева решений</a></span></li><li><span><a href=\"#Модель-случайного-леса\" data-toc-modified-id=\"Модель-случайного-леса-3.2.2\"><span class=\"toc-item-num\">3.2.2&nbsp;&nbsp;</span>Модель случайного леса</a></span></li><li><span><a href=\"#Модель-логистической-регрессии\" data-toc-modified-id=\"Модель-логистической-регрессии-3.2.3\"><span class=\"toc-item-num\">3.2.3&nbsp;&nbsp;</span>Модель логистической регрессии</a></span></li></ul></li><li><span><a href=\"#Вес-классов.\" data-toc-modified-id=\"Вес-классов.-3.3\"><span class=\"toc-item-num\">3.3&nbsp;&nbsp;</span>Вес классов.</a></span><ul class=\"toc-item\"><li><span><a href=\"#Модель-дерева-решений\" data-toc-modified-id=\"Модель-дерева-решений-3.3.1\"><span class=\"toc-item-num\">3.3.1&nbsp;&nbsp;</span>Модель дерева решений</a></span></li><li><span><a href=\"#Модель-случайного-леса\" data-toc-modified-id=\"Модель-случайного-леса-3.3.2\"><span class=\"toc-item-num\">3.3.2&nbsp;&nbsp;</span>Модель случайного леса</a></span></li><li><span><a href=\"#Модель-логистической-регрессии\" data-toc-modified-id=\"Модель-логистической-регрессии-3.3.3\"><span class=\"toc-item-num\">3.3.3&nbsp;&nbsp;</span>Модель логистической регрессии</a></span></li></ul></li><li><span><a href=\"#Выводы-по-разделу:\" data-toc-modified-id=\"Выводы-по-разделу:-3.4\"><span class=\"toc-item-num\">3.4&nbsp;&nbsp;</span>Выводы по разделу:</a></span></li></ul></li><li><span><a href=\"#Тестирование-модели\" data-toc-modified-id=\"Тестирование-модели-4\"><span class=\"toc-item-num\">4&nbsp;&nbsp;</span>Тестирование модели</a></span><ul class=\"toc-item\"><li><span><a href=\"#Выводы:\" data-toc-modified-id=\"Выводы:-4.1\"><span class=\"toc-item-num\">4.1&nbsp;&nbsp;</span>Выводы:</a></span></li></ul></li><li><span><a href=\"#Вывод-по-проекту\" data-toc-modified-id=\"Вывод-по-проекту-5\"><span class=\"toc-item-num\">5&nbsp;&nbsp;</span>Вывод по проекту</a></span></li><li><span><a href=\"#Чек-лист-готовности-проекта\" data-toc-modified-id=\"Чек-лист-готовности-проекта-6\"><span class=\"toc-item-num\">6&nbsp;&nbsp;</span>Чек-лист готовности проекта</a></span></li><li><span><a href=\"#Общий-вывод-по-проекту\" data-toc-modified-id=\"Общий-вывод-по-проекту-7\"><span class=\"toc-item-num\">7&nbsp;&nbsp;</span><b>Общий вывод по проекту</b></a></span></li><li><span><a href=\"#Общий-вывод-по-проекту-В2\" data-toc-modified-id=\"Общий-вывод-по-проекту-В2-8\"><span class=\"toc-item-num\">8&nbsp;&nbsp;</span><b>Общий вывод по проекту В2</b></a></span></li><li><span><a href=\"#Общий-вывод-по-проекту-В3\" data-toc-modified-id=\"Общий-вывод-по-проекту-В3-9\"><span class=\"toc-item-num\">9&nbsp;&nbsp;</span><b>Общий вывод по проекту В3</b></a></span></li></ul></div>"
   ]
  },
  {
   "cell_type": "markdown",
   "metadata": {},
   "source": [
    "# Отток клиентов"
   ]
  },
  {
   "cell_type": "markdown",
   "metadata": {},
   "source": [
    "Из «Бета-Банка» стали уходить клиенты. Каждый месяц. Немного, но заметно. Банковские маркетологи посчитали: сохранять текущих клиентов дешевле, чем привлекать новых.\n",
    "\n",
    "Нужно спрогнозировать, уйдёт клиент из банка в ближайшее время или нет. Вам предоставлены исторические данные о поведении клиентов и расторжении договоров с банком. \n",
    "\n",
    "Постройте модель с предельно большим значением *F1*-меры. Чтобы сдать проект успешно, нужно довести метрику до 0.59. Проверьте *F1*-меру на тестовой выборке самостоятельно.\n",
    "\n",
    "Дополнительно измеряйте *AUC-ROC*, сравнивайте её значение с *F1*-мерой.\n",
    "\n",
    "Источник данных: [https://www.kaggle.com/barelydedicated/bank-customer-churn-modeling](https://www.kaggle.com/barelydedicated/bank-customer-churn-modeling)"
   ]
  },
  {
   "cell_type": "markdown",
   "metadata": {},
   "source": [
    "# План работы:\n",
    "\n",
    "1. Подготовка данных: обработка пропусков, обработка категориальных признаков методом OHE, масштабирование количественных признаков.\n",
    "2. Обучение и проверка моделей дерева решений, случайного леса, логистической регрессии.\n",
    "3. Обработка дисбаланса классов методами апсэмплинга, даунсэмплинга и указания веса классов. Проверка моделей.\n",
    "4. Тестирование лучшей модели. Определние метрики AUC-ROC."
   ]
  },
  {
   "cell_type": "markdown",
   "metadata": {},
   "source": [
    "## Подготовка данных"
   ]
  },
  {
   "cell_type": "code",
   "execution_count": 1,
   "metadata": {},
   "outputs": [],
   "source": [
    "import pandas as pd\n",
    "import matplotlib.pyplot as plt\n",
    "import numpy as np\n",
    "from sklearn.model_selection import train_test_split\n",
    "from sklearn.tree import DecisionTreeClassifier\n",
    "from sklearn.ensemble import RandomForestClassifier\n",
    "from sklearn.linear_model import LogisticRegression\n",
    "from sklearn.preprocessing import StandardScaler\n",
    "from sklearn.utils import shuffle\n",
    "from sklearn.metrics import f1_score\n",
    "from sklearn.metrics import roc_auc_score\n",
    "from sklearn.metrics import roc_curve\n",
    "from sklearn.preprocessing import OneHotEncoder"
   ]
  },
  {
   "cell_type": "code",
   "execution_count": 2,
   "metadata": {},
   "outputs": [
    {
     "name": "stdout",
     "output_type": "stream",
     "text": [
      "<class 'pandas.core.frame.DataFrame'>\n",
      "RangeIndex: 10000 entries, 0 to 9999\n",
      "Data columns (total 14 columns):\n",
      " #   Column           Non-Null Count  Dtype  \n",
      "---  ------           --------------  -----  \n",
      " 0   RowNumber        10000 non-null  int64  \n",
      " 1   CustomerId       10000 non-null  int64  \n",
      " 2   Surname          10000 non-null  object \n",
      " 3   CreditScore      10000 non-null  int64  \n",
      " 4   Geography        10000 non-null  object \n",
      " 5   Gender           10000 non-null  object \n",
      " 6   Age              10000 non-null  int64  \n",
      " 7   Tenure           9091 non-null   float64\n",
      " 8   Balance          10000 non-null  float64\n",
      " 9   NumOfProducts    10000 non-null  int64  \n",
      " 10  HasCrCard        10000 non-null  int64  \n",
      " 11  IsActiveMember   10000 non-null  int64  \n",
      " 12  EstimatedSalary  10000 non-null  float64\n",
      " 13  Exited           10000 non-null  int64  \n",
      "dtypes: float64(3), int64(8), object(3)\n",
      "memory usage: 1.1+ MB\n"
     ]
    },
    {
     "data": {
      "text/html": [
       "<div>\n",
       "<style scoped>\n",
       "    .dataframe tbody tr th:only-of-type {\n",
       "        vertical-align: middle;\n",
       "    }\n",
       "\n",
       "    .dataframe tbody tr th {\n",
       "        vertical-align: top;\n",
       "    }\n",
       "\n",
       "    .dataframe thead th {\n",
       "        text-align: right;\n",
       "    }\n",
       "</style>\n",
       "<table border=\"1\" class=\"dataframe\">\n",
       "  <thead>\n",
       "    <tr style=\"text-align: right;\">\n",
       "      <th></th>\n",
       "      <th>RowNumber</th>\n",
       "      <th>CustomerId</th>\n",
       "      <th>Surname</th>\n",
       "      <th>CreditScore</th>\n",
       "      <th>Geography</th>\n",
       "      <th>Gender</th>\n",
       "      <th>Age</th>\n",
       "      <th>Tenure</th>\n",
       "      <th>Balance</th>\n",
       "      <th>NumOfProducts</th>\n",
       "      <th>HasCrCard</th>\n",
       "      <th>IsActiveMember</th>\n",
       "      <th>EstimatedSalary</th>\n",
       "      <th>Exited</th>\n",
       "    </tr>\n",
       "  </thead>\n",
       "  <tbody>\n",
       "    <tr>\n",
       "      <th>0</th>\n",
       "      <td>1</td>\n",
       "      <td>15634602</td>\n",
       "      <td>Hargrave</td>\n",
       "      <td>619</td>\n",
       "      <td>France</td>\n",
       "      <td>Female</td>\n",
       "      <td>42</td>\n",
       "      <td>2.0</td>\n",
       "      <td>0.00</td>\n",
       "      <td>1</td>\n",
       "      <td>1</td>\n",
       "      <td>1</td>\n",
       "      <td>101348.88</td>\n",
       "      <td>1</td>\n",
       "    </tr>\n",
       "    <tr>\n",
       "      <th>1</th>\n",
       "      <td>2</td>\n",
       "      <td>15647311</td>\n",
       "      <td>Hill</td>\n",
       "      <td>608</td>\n",
       "      <td>Spain</td>\n",
       "      <td>Female</td>\n",
       "      <td>41</td>\n",
       "      <td>1.0</td>\n",
       "      <td>83807.86</td>\n",
       "      <td>1</td>\n",
       "      <td>0</td>\n",
       "      <td>1</td>\n",
       "      <td>112542.58</td>\n",
       "      <td>0</td>\n",
       "    </tr>\n",
       "    <tr>\n",
       "      <th>2</th>\n",
       "      <td>3</td>\n",
       "      <td>15619304</td>\n",
       "      <td>Onio</td>\n",
       "      <td>502</td>\n",
       "      <td>France</td>\n",
       "      <td>Female</td>\n",
       "      <td>42</td>\n",
       "      <td>8.0</td>\n",
       "      <td>159660.80</td>\n",
       "      <td>3</td>\n",
       "      <td>1</td>\n",
       "      <td>0</td>\n",
       "      <td>113931.57</td>\n",
       "      <td>1</td>\n",
       "    </tr>\n",
       "    <tr>\n",
       "      <th>3</th>\n",
       "      <td>4</td>\n",
       "      <td>15701354</td>\n",
       "      <td>Boni</td>\n",
       "      <td>699</td>\n",
       "      <td>France</td>\n",
       "      <td>Female</td>\n",
       "      <td>39</td>\n",
       "      <td>1.0</td>\n",
       "      <td>0.00</td>\n",
       "      <td>2</td>\n",
       "      <td>0</td>\n",
       "      <td>0</td>\n",
       "      <td>93826.63</td>\n",
       "      <td>0</td>\n",
       "    </tr>\n",
       "    <tr>\n",
       "      <th>4</th>\n",
       "      <td>5</td>\n",
       "      <td>15737888</td>\n",
       "      <td>Mitchell</td>\n",
       "      <td>850</td>\n",
       "      <td>Spain</td>\n",
       "      <td>Female</td>\n",
       "      <td>43</td>\n",
       "      <td>2.0</td>\n",
       "      <td>125510.82</td>\n",
       "      <td>1</td>\n",
       "      <td>1</td>\n",
       "      <td>1</td>\n",
       "      <td>79084.10</td>\n",
       "      <td>0</td>\n",
       "    </tr>\n",
       "  </tbody>\n",
       "</table>\n",
       "</div>"
      ],
      "text/plain": [
       "   RowNumber  CustomerId   Surname  CreditScore Geography  Gender  Age  \\\n",
       "0          1    15634602  Hargrave          619    France  Female   42   \n",
       "1          2    15647311      Hill          608     Spain  Female   41   \n",
       "2          3    15619304      Onio          502    France  Female   42   \n",
       "3          4    15701354      Boni          699    France  Female   39   \n",
       "4          5    15737888  Mitchell          850     Spain  Female   43   \n",
       "\n",
       "   Tenure    Balance  NumOfProducts  HasCrCard  IsActiveMember  \\\n",
       "0     2.0       0.00              1          1               1   \n",
       "1     1.0   83807.86              1          0               1   \n",
       "2     8.0  159660.80              3          1               0   \n",
       "3     1.0       0.00              2          0               0   \n",
       "4     2.0  125510.82              1          1               1   \n",
       "\n",
       "   EstimatedSalary  Exited  \n",
       "0        101348.88       1  \n",
       "1        112542.58       0  \n",
       "2        113931.57       1  \n",
       "3         93826.63       0  \n",
       "4         79084.10       0  "
      ]
     },
     "execution_count": 2,
     "metadata": {},
     "output_type": "execute_result"
    }
   ],
   "source": [
    "data = pd.read_csv('./Churn.csv')\n",
    "data.info()\n",
    "data.head()"
   ]
  },
  {
   "cell_type": "markdown",
   "metadata": {},
   "source": [
    "Всего в массиве данных 10000 строк. Согласно документации в столбцах содержится следующая инфорамация:\n",
    "\n",
    "- RowNumber — индекс строки в данных\n",
    "- CustomerId — уникальный идентификатор клиента\n",
    "- Surname — фамилия\n",
    "- CreditScore — кредитный рейтинг\n",
    "- Geography — страна проживания\n",
    "- Gender — пол\n",
    "- Age — возраст\n",
    "- Tenure — сколько лет человек является клиентом банка\n",
    "- Balance — баланс на счёте\n",
    "- NumOfProducts — количество продуктов банка, используемых клиентом\n",
    "- HasCrCard — наличие кредитной карты\n",
    "- IsActiveMember — активность клиента\n",
    "- EstimatedSalary — предполагаемая зарплата\n",
    "- Exited — факт ухода клиента\n",
    "\n",
    "Видим, что в данных имеется 909 строк с пропусками в столбце Tenure. При обучении модели пропуски в значениях будут вызывать ошибки. Так как мы не можем восстановить пропущенные данные, то во избежание ошибок отбросим данные строки."
   ]
  },
  {
   "cell_type": "code",
   "execution_count": 3,
   "metadata": {
    "scrolled": true
   },
   "outputs": [
    {
     "name": "stdout",
     "output_type": "stream",
     "text": [
      "<class 'pandas.core.frame.DataFrame'>\n",
      "RangeIndex: 9091 entries, 0 to 9090\n",
      "Data columns (total 14 columns):\n",
      " #   Column           Non-Null Count  Dtype  \n",
      "---  ------           --------------  -----  \n",
      " 0   RowNumber        9091 non-null   int64  \n",
      " 1   CustomerId       9091 non-null   int64  \n",
      " 2   Surname          9091 non-null   object \n",
      " 3   CreditScore      9091 non-null   int64  \n",
      " 4   Geography        9091 non-null   object \n",
      " 5   Gender           9091 non-null   object \n",
      " 6   Age              9091 non-null   int64  \n",
      " 7   Tenure           9091 non-null   float64\n",
      " 8   Balance          9091 non-null   float64\n",
      " 9   NumOfProducts    9091 non-null   int64  \n",
      " 10  HasCrCard        9091 non-null   int64  \n",
      " 11  IsActiveMember   9091 non-null   int64  \n",
      " 12  EstimatedSalary  9091 non-null   float64\n",
      " 13  Exited           9091 non-null   int64  \n",
      "dtypes: float64(3), int64(8), object(3)\n",
      "memory usage: 994.5+ KB\n"
     ]
    }
   ],
   "source": [
    "data = data.dropna().reset_index(drop=True)\n",
    "data.info()"
   ]
  },
  {
   "cell_type": "markdown",
   "metadata": {},
   "source": [
    "Разобьем исходный датафрейм на признаки (features) и целевую переменную (target). "
   ]
  },
  {
   "cell_type": "code",
   "execution_count": 4,
   "metadata": {
    "scrolled": false
   },
   "outputs": [],
   "source": [
    "features = data.drop(['RowNumber', 'CustomerId', 'Surname', 'Exited'], axis=1)\n",
    "target = data['Exited']"
   ]
  },
  {
   "cell_type": "markdown",
   "metadata": {},
   "source": [
    "Разобьем данные на 3 выборки: тренировочную (train), валидационную (valid) и тестовую (test) в пропорции 3:1:1."
   ]
  },
  {
   "cell_type": "code",
   "execution_count": 5,
   "metadata": {},
   "outputs": [],
   "source": [
    "features_train_valid, features_test, target_train_valid, target_test = train_test_split(\n",
    "                                                           features, target, test_size=0.2, random_state=1644)\n",
    "\n",
    "features_train, features_valid, target_train, target_valid = train_test_split(\n",
    "                                            features_train_valid, target_train_valid, test_size=0.25, random_state=1644)"
   ]
  },
  {
   "cell_type": "markdown",
   "metadata": {},
   "source": [
    "Обработаем категориальные признаки методом One-Hot Encoding для каждой из трех выборок признаков. Во избежание попадания в \"дамми\"-ловушку отбросим первый получившийся столбец по каждой категориальной переменной"
   ]
  },
  {
   "cell_type": "code",
   "execution_count": 6,
   "metadata": {},
   "outputs": [
    {
     "data": {
      "text/plain": [
       "OneHotEncoder(drop='first', sparse=False)"
      ]
     },
     "execution_count": 6,
     "metadata": {},
     "output_type": "execute_result"
    }
   ],
   "source": [
    "ohe = OneHotEncoder(sparse=False, drop='first')\n",
    "columns_to_ohe = ['Geography','Gender']\n",
    "\n",
    "ohe.fit(features_train.loc[:, columns_to_ohe])\n"
   ]
  },
  {
   "cell_type": "code",
   "execution_count": 7,
   "metadata": {},
   "outputs": [
    {
     "data": {
      "text/html": [
       "<div>\n",
       "<style scoped>\n",
       "    .dataframe tbody tr th:only-of-type {\n",
       "        vertical-align: middle;\n",
       "    }\n",
       "\n",
       "    .dataframe tbody tr th {\n",
       "        vertical-align: top;\n",
       "    }\n",
       "\n",
       "    .dataframe thead th {\n",
       "        text-align: right;\n",
       "    }\n",
       "</style>\n",
       "<table border=\"1\" class=\"dataframe\">\n",
       "  <thead>\n",
       "    <tr style=\"text-align: right;\">\n",
       "      <th></th>\n",
       "      <th>CreditScore</th>\n",
       "      <th>Age</th>\n",
       "      <th>Tenure</th>\n",
       "      <th>Balance</th>\n",
       "      <th>NumOfProducts</th>\n",
       "      <th>HasCrCard</th>\n",
       "      <th>IsActiveMember</th>\n",
       "      <th>EstimatedSalary</th>\n",
       "      <th>Geography_Spain</th>\n",
       "      <th>Geography_Germany</th>\n",
       "      <th>Gender_Female</th>\n",
       "    </tr>\n",
       "  </thead>\n",
       "  <tbody>\n",
       "    <tr>\n",
       "      <th>5025</th>\n",
       "      <td>786</td>\n",
       "      <td>32</td>\n",
       "      <td>9.0</td>\n",
       "      <td>0.00</td>\n",
       "      <td>2</td>\n",
       "      <td>1</td>\n",
       "      <td>0</td>\n",
       "      <td>133112.41</td>\n",
       "      <td>0.0</td>\n",
       "      <td>0.0</td>\n",
       "      <td>1.0</td>\n",
       "    </tr>\n",
       "    <tr>\n",
       "      <th>1050</th>\n",
       "      <td>552</td>\n",
       "      <td>49</td>\n",
       "      <td>4.0</td>\n",
       "      <td>0.00</td>\n",
       "      <td>1</td>\n",
       "      <td>1</td>\n",
       "      <td>1</td>\n",
       "      <td>190296.76</td>\n",
       "      <td>0.0</td>\n",
       "      <td>0.0</td>\n",
       "      <td>1.0</td>\n",
       "    </tr>\n",
       "    <tr>\n",
       "      <th>452</th>\n",
       "      <td>774</td>\n",
       "      <td>60</td>\n",
       "      <td>5.0</td>\n",
       "      <td>85891.55</td>\n",
       "      <td>1</td>\n",
       "      <td>1</td>\n",
       "      <td>0</td>\n",
       "      <td>74135.48</td>\n",
       "      <td>0.0</td>\n",
       "      <td>0.0</td>\n",
       "      <td>1.0</td>\n",
       "    </tr>\n",
       "    <tr>\n",
       "      <th>6249</th>\n",
       "      <td>586</td>\n",
       "      <td>32</td>\n",
       "      <td>1.0</td>\n",
       "      <td>0.00</td>\n",
       "      <td>2</td>\n",
       "      <td>0</td>\n",
       "      <td>0</td>\n",
       "      <td>31635.99</td>\n",
       "      <td>0.0</td>\n",
       "      <td>0.0</td>\n",
       "      <td>1.0</td>\n",
       "    </tr>\n",
       "    <tr>\n",
       "      <th>5599</th>\n",
       "      <td>619</td>\n",
       "      <td>41</td>\n",
       "      <td>8.0</td>\n",
       "      <td>0.00</td>\n",
       "      <td>3</td>\n",
       "      <td>1</td>\n",
       "      <td>1</td>\n",
       "      <td>79866.73</td>\n",
       "      <td>0.0</td>\n",
       "      <td>1.0</td>\n",
       "      <td>0.0</td>\n",
       "    </tr>\n",
       "  </tbody>\n",
       "</table>\n",
       "</div>"
      ],
      "text/plain": [
       "      CreditScore  Age  Tenure   Balance  NumOfProducts  HasCrCard  \\\n",
       "5025          786   32     9.0      0.00              2          1   \n",
       "1050          552   49     4.0      0.00              1          1   \n",
       "452           774   60     5.0  85891.55              1          1   \n",
       "6249          586   32     1.0      0.00              2          0   \n",
       "5599          619   41     8.0      0.00              3          1   \n",
       "\n",
       "      IsActiveMember  EstimatedSalary  Geography_Spain  Geography_Germany  \\\n",
       "5025               0        133112.41              0.0                0.0   \n",
       "1050               1        190296.76              0.0                0.0   \n",
       "452                0         74135.48              0.0                0.0   \n",
       "6249               0         31635.99              0.0                0.0   \n",
       "5599               1         79866.73              0.0                1.0   \n",
       "\n",
       "      Gender_Female  \n",
       "5025            1.0  \n",
       "1050            1.0  \n",
       "452             1.0  \n",
       "6249            1.0  \n",
       "5599            0.0  "
      ]
     },
     "metadata": {},
     "output_type": "display_data"
    }
   ],
   "source": [
    "columns_train_transformed = ohe.transform(features_train.loc[:, columns_to_ohe])\n",
    "\n",
    "columns_train_encoded =[]\n",
    "\n",
    "for i in range(1, len(features_train['Geography'].unique())):\n",
    "    columns_train_encoded.append('Geography_' + features_train['Geography'].unique()[i])\n",
    "    \n",
    "for i in range(1, len(features_train['Gender'].unique())):\n",
    "    columns_train_encoded.append('Gender_' + features_train['Gender'].unique()[i])\n",
    "    \n",
    "features_train_encoded = pd.DataFrame(columns_train_transformed,index=features_train.index, columns=columns_train_encoded)\n",
    "features_ohe_train = pd.concat([features_train, features_train_encoded], axis=1).drop(columns_to_ohe, axis=1)\n",
    "\n",
    "display(features_ohe_train.head())"
   ]
  },
  {
   "cell_type": "code",
   "execution_count": 8,
   "metadata": {},
   "outputs": [
    {
     "data": {
      "text/html": [
       "<div>\n",
       "<style scoped>\n",
       "    .dataframe tbody tr th:only-of-type {\n",
       "        vertical-align: middle;\n",
       "    }\n",
       "\n",
       "    .dataframe tbody tr th {\n",
       "        vertical-align: top;\n",
       "    }\n",
       "\n",
       "    .dataframe thead th {\n",
       "        text-align: right;\n",
       "    }\n",
       "</style>\n",
       "<table border=\"1\" class=\"dataframe\">\n",
       "  <thead>\n",
       "    <tr style=\"text-align: right;\">\n",
       "      <th></th>\n",
       "      <th>CreditScore</th>\n",
       "      <th>Age</th>\n",
       "      <th>Tenure</th>\n",
       "      <th>Balance</th>\n",
       "      <th>NumOfProducts</th>\n",
       "      <th>HasCrCard</th>\n",
       "      <th>IsActiveMember</th>\n",
       "      <th>EstimatedSalary</th>\n",
       "      <th>Geography_Germany</th>\n",
       "      <th>Geography_France</th>\n",
       "      <th>Gender_Female</th>\n",
       "    </tr>\n",
       "  </thead>\n",
       "  <tbody>\n",
       "    <tr>\n",
       "      <th>2965</th>\n",
       "      <td>584</td>\n",
       "      <td>32</td>\n",
       "      <td>9.0</td>\n",
       "      <td>85534.83</td>\n",
       "      <td>1</td>\n",
       "      <td>0</td>\n",
       "      <td>0</td>\n",
       "      <td>169137.24</td>\n",
       "      <td>0.0</td>\n",
       "      <td>1.0</td>\n",
       "      <td>1.0</td>\n",
       "    </tr>\n",
       "    <tr>\n",
       "      <th>4550</th>\n",
       "      <td>745</td>\n",
       "      <td>44</td>\n",
       "      <td>0.0</td>\n",
       "      <td>119638.21</td>\n",
       "      <td>1</td>\n",
       "      <td>1</td>\n",
       "      <td>1</td>\n",
       "      <td>34265.08</td>\n",
       "      <td>1.0</td>\n",
       "      <td>0.0</td>\n",
       "      <td>0.0</td>\n",
       "    </tr>\n",
       "    <tr>\n",
       "      <th>1743</th>\n",
       "      <td>536</td>\n",
       "      <td>23</td>\n",
       "      <td>6.0</td>\n",
       "      <td>92366.72</td>\n",
       "      <td>2</td>\n",
       "      <td>1</td>\n",
       "      <td>0</td>\n",
       "      <td>120661.71</td>\n",
       "      <td>1.0</td>\n",
       "      <td>0.0</td>\n",
       "      <td>1.0</td>\n",
       "    </tr>\n",
       "    <tr>\n",
       "      <th>950</th>\n",
       "      <td>613</td>\n",
       "      <td>38</td>\n",
       "      <td>9.0</td>\n",
       "      <td>67111.65</td>\n",
       "      <td>1</td>\n",
       "      <td>1</td>\n",
       "      <td>0</td>\n",
       "      <td>78566.64</td>\n",
       "      <td>1.0</td>\n",
       "      <td>0.0</td>\n",
       "      <td>1.0</td>\n",
       "    </tr>\n",
       "    <tr>\n",
       "      <th>6329</th>\n",
       "      <td>595</td>\n",
       "      <td>52</td>\n",
       "      <td>9.0</td>\n",
       "      <td>0.00</td>\n",
       "      <td>1</td>\n",
       "      <td>1</td>\n",
       "      <td>1</td>\n",
       "      <td>106340.66</td>\n",
       "      <td>0.0</td>\n",
       "      <td>0.0</td>\n",
       "      <td>1.0</td>\n",
       "    </tr>\n",
       "  </tbody>\n",
       "</table>\n",
       "</div>"
      ],
      "text/plain": [
       "      CreditScore  Age  Tenure    Balance  NumOfProducts  HasCrCard  \\\n",
       "2965          584   32     9.0   85534.83              1          0   \n",
       "4550          745   44     0.0  119638.21              1          1   \n",
       "1743          536   23     6.0   92366.72              2          1   \n",
       "950           613   38     9.0   67111.65              1          1   \n",
       "6329          595   52     9.0       0.00              1          1   \n",
       "\n",
       "      IsActiveMember  EstimatedSalary  Geography_Germany  Geography_France  \\\n",
       "2965               0        169137.24                0.0               1.0   \n",
       "4550               1         34265.08                1.0               0.0   \n",
       "1743               0        120661.71                1.0               0.0   \n",
       "950                0         78566.64                1.0               0.0   \n",
       "6329               1        106340.66                0.0               0.0   \n",
       "\n",
       "      Gender_Female  \n",
       "2965            1.0  \n",
       "4550            0.0  \n",
       "1743            1.0  \n",
       "950             1.0  \n",
       "6329            1.0  "
      ]
     },
     "metadata": {},
     "output_type": "display_data"
    }
   ],
   "source": [
    "columns_valid_transformed = ohe.transform(features_valid.loc[:, columns_to_ohe])\n",
    "\n",
    "columns_valid_encoded =[]\n",
    "\n",
    "for i in range(1, len(features_valid['Geography'].unique())):\n",
    "    columns_valid_encoded.append('Geography_' + features_valid['Geography'].unique()[i])\n",
    "    \n",
    "for i in range(1, len(features_valid['Gender'].unique())):\n",
    "    columns_valid_encoded.append('Gender_' + features_valid['Gender'].unique()[i])\n",
    "    \n",
    "features_valid_encoded = pd.DataFrame(columns_valid_transformed,index=features_valid.index, columns=columns_valid_encoded)\n",
    "features_ohe_valid = pd.concat([features_valid, features_valid_encoded], axis=1).drop(columns_to_ohe, axis=1)\n",
    "\n",
    "display(features_ohe_valid.head())"
   ]
  },
  {
   "cell_type": "code",
   "execution_count": 9,
   "metadata": {},
   "outputs": [
    {
     "data": {
      "text/html": [
       "<div>\n",
       "<style scoped>\n",
       "    .dataframe tbody tr th:only-of-type {\n",
       "        vertical-align: middle;\n",
       "    }\n",
       "\n",
       "    .dataframe tbody tr th {\n",
       "        vertical-align: top;\n",
       "    }\n",
       "\n",
       "    .dataframe thead th {\n",
       "        text-align: right;\n",
       "    }\n",
       "</style>\n",
       "<table border=\"1\" class=\"dataframe\">\n",
       "  <thead>\n",
       "    <tr style=\"text-align: right;\">\n",
       "      <th></th>\n",
       "      <th>CreditScore</th>\n",
       "      <th>Age</th>\n",
       "      <th>Tenure</th>\n",
       "      <th>Balance</th>\n",
       "      <th>NumOfProducts</th>\n",
       "      <th>HasCrCard</th>\n",
       "      <th>IsActiveMember</th>\n",
       "      <th>EstimatedSalary</th>\n",
       "      <th>Geography_Germany</th>\n",
       "      <th>Geography_France</th>\n",
       "      <th>Gender_Female</th>\n",
       "    </tr>\n",
       "  </thead>\n",
       "  <tbody>\n",
       "    <tr>\n",
       "      <th>2965</th>\n",
       "      <td>584</td>\n",
       "      <td>32</td>\n",
       "      <td>9.0</td>\n",
       "      <td>85534.83</td>\n",
       "      <td>1</td>\n",
       "      <td>0</td>\n",
       "      <td>0</td>\n",
       "      <td>169137.24</td>\n",
       "      <td>0.0</td>\n",
       "      <td>1.0</td>\n",
       "      <td>1.0</td>\n",
       "    </tr>\n",
       "    <tr>\n",
       "      <th>4550</th>\n",
       "      <td>745</td>\n",
       "      <td>44</td>\n",
       "      <td>0.0</td>\n",
       "      <td>119638.21</td>\n",
       "      <td>1</td>\n",
       "      <td>1</td>\n",
       "      <td>1</td>\n",
       "      <td>34265.08</td>\n",
       "      <td>1.0</td>\n",
       "      <td>0.0</td>\n",
       "      <td>0.0</td>\n",
       "    </tr>\n",
       "    <tr>\n",
       "      <th>1743</th>\n",
       "      <td>536</td>\n",
       "      <td>23</td>\n",
       "      <td>6.0</td>\n",
       "      <td>92366.72</td>\n",
       "      <td>2</td>\n",
       "      <td>1</td>\n",
       "      <td>0</td>\n",
       "      <td>120661.71</td>\n",
       "      <td>1.0</td>\n",
       "      <td>0.0</td>\n",
       "      <td>1.0</td>\n",
       "    </tr>\n",
       "    <tr>\n",
       "      <th>950</th>\n",
       "      <td>613</td>\n",
       "      <td>38</td>\n",
       "      <td>9.0</td>\n",
       "      <td>67111.65</td>\n",
       "      <td>1</td>\n",
       "      <td>1</td>\n",
       "      <td>0</td>\n",
       "      <td>78566.64</td>\n",
       "      <td>1.0</td>\n",
       "      <td>0.0</td>\n",
       "      <td>1.0</td>\n",
       "    </tr>\n",
       "    <tr>\n",
       "      <th>6329</th>\n",
       "      <td>595</td>\n",
       "      <td>52</td>\n",
       "      <td>9.0</td>\n",
       "      <td>0.00</td>\n",
       "      <td>1</td>\n",
       "      <td>1</td>\n",
       "      <td>1</td>\n",
       "      <td>106340.66</td>\n",
       "      <td>0.0</td>\n",
       "      <td>0.0</td>\n",
       "      <td>1.0</td>\n",
       "    </tr>\n",
       "  </tbody>\n",
       "</table>\n",
       "</div>"
      ],
      "text/plain": [
       "      CreditScore  Age  Tenure    Balance  NumOfProducts  HasCrCard  \\\n",
       "2965          584   32     9.0   85534.83              1          0   \n",
       "4550          745   44     0.0  119638.21              1          1   \n",
       "1743          536   23     6.0   92366.72              2          1   \n",
       "950           613   38     9.0   67111.65              1          1   \n",
       "6329          595   52     9.0       0.00              1          1   \n",
       "\n",
       "      IsActiveMember  EstimatedSalary  Geography_Germany  Geography_France  \\\n",
       "2965               0        169137.24                0.0               1.0   \n",
       "4550               1         34265.08                1.0               0.0   \n",
       "1743               0        120661.71                1.0               0.0   \n",
       "950                0         78566.64                1.0               0.0   \n",
       "6329               1        106340.66                0.0               0.0   \n",
       "\n",
       "      Gender_Female  \n",
       "2965            1.0  \n",
       "4550            0.0  \n",
       "1743            1.0  \n",
       "950             1.0  \n",
       "6329            1.0  "
      ]
     },
     "metadata": {},
     "output_type": "display_data"
    }
   ],
   "source": [
    "columns_test_transformed = ohe.transform(features_test.loc[:, columns_to_ohe])\n",
    "\n",
    "columns_test_encoded =[]\n",
    "\n",
    "for i in range(1, len(features_test['Geography'].unique())):\n",
    "    columns_test_encoded.append('Geography_' + features_test['Geography'].unique()[i])\n",
    "    \n",
    "for i in range(1, len(features_test['Gender'].unique())):\n",
    "    columns_test_encoded.append('Gender_' + features_test['Gender'].unique()[i])\n",
    "    \n",
    "features_test_encoded = pd.DataFrame(columns_test_transformed,index=features_test.index, columns=columns_test_encoded)\n",
    "features_ohe_test = pd.concat([features_test, features_test_encoded], axis=1).drop(columns_to_ohe, axis=1)\n",
    "\n",
    "display(features_ohe_valid.head())"
   ]
  },
  {
   "cell_type": "markdown",
   "metadata": {},
   "source": [
    "Приведем количественные признаки к одному масштабу."
   ]
  },
  {
   "cell_type": "code",
   "execution_count": 10,
   "metadata": {},
   "outputs": [
    {
     "data": {
      "text/html": [
       "<div>\n",
       "<style scoped>\n",
       "    .dataframe tbody tr th:only-of-type {\n",
       "        vertical-align: middle;\n",
       "    }\n",
       "\n",
       "    .dataframe tbody tr th {\n",
       "        vertical-align: top;\n",
       "    }\n",
       "\n",
       "    .dataframe thead th {\n",
       "        text-align: right;\n",
       "    }\n",
       "</style>\n",
       "<table border=\"1\" class=\"dataframe\">\n",
       "  <thead>\n",
       "    <tr style=\"text-align: right;\">\n",
       "      <th></th>\n",
       "      <th>CreditScore</th>\n",
       "      <th>Age</th>\n",
       "      <th>Tenure</th>\n",
       "      <th>Balance</th>\n",
       "      <th>NumOfProducts</th>\n",
       "      <th>HasCrCard</th>\n",
       "      <th>IsActiveMember</th>\n",
       "      <th>EstimatedSalary</th>\n",
       "      <th>Geography_Spain</th>\n",
       "      <th>Geography_Germany</th>\n",
       "      <th>Gender_Female</th>\n",
       "    </tr>\n",
       "  </thead>\n",
       "  <tbody>\n",
       "    <tr>\n",
       "      <th>5025</th>\n",
       "      <td>1.411460</td>\n",
       "      <td>-0.667178</td>\n",
       "      <td>1.382108</td>\n",
       "      <td>-1.208750</td>\n",
       "      <td>0.803358</td>\n",
       "      <td>1</td>\n",
       "      <td>0</td>\n",
       "      <td>0.575595</td>\n",
       "      <td>0.0</td>\n",
       "      <td>0.0</td>\n",
       "      <td>1.0</td>\n",
       "    </tr>\n",
       "    <tr>\n",
       "      <th>1050</th>\n",
       "      <td>-1.029366</td>\n",
       "      <td>0.967929</td>\n",
       "      <td>-0.353243</td>\n",
       "      <td>-1.208750</td>\n",
       "      <td>-0.930522</td>\n",
       "      <td>1</td>\n",
       "      <td>1</td>\n",
       "      <td>1.565763</td>\n",
       "      <td>0.0</td>\n",
       "      <td>0.0</td>\n",
       "      <td>1.0</td>\n",
       "    </tr>\n",
       "    <tr>\n",
       "      <th>452</th>\n",
       "      <td>1.286290</td>\n",
       "      <td>2.025940</td>\n",
       "      <td>-0.006173</td>\n",
       "      <td>0.167996</td>\n",
       "      <td>-0.930522</td>\n",
       "      <td>1</td>\n",
       "      <td>0</td>\n",
       "      <td>-0.445612</td>\n",
       "      <td>0.0</td>\n",
       "      <td>0.0</td>\n",
       "      <td>1.0</td>\n",
       "    </tr>\n",
       "    <tr>\n",
       "      <th>6249</th>\n",
       "      <td>-0.674716</td>\n",
       "      <td>-0.667178</td>\n",
       "      <td>-1.394454</td>\n",
       "      <td>-1.208750</td>\n",
       "      <td>0.803358</td>\n",
       "      <td>0</td>\n",
       "      <td>0</td>\n",
       "      <td>-1.181506</td>\n",
       "      <td>0.0</td>\n",
       "      <td>0.0</td>\n",
       "      <td>1.0</td>\n",
       "    </tr>\n",
       "    <tr>\n",
       "      <th>5599</th>\n",
       "      <td>-0.330497</td>\n",
       "      <td>0.198467</td>\n",
       "      <td>1.035038</td>\n",
       "      <td>-1.208750</td>\n",
       "      <td>2.537238</td>\n",
       "      <td>1</td>\n",
       "      <td>1</td>\n",
       "      <td>-0.346373</td>\n",
       "      <td>0.0</td>\n",
       "      <td>1.0</td>\n",
       "      <td>0.0</td>\n",
       "    </tr>\n",
       "  </tbody>\n",
       "</table>\n",
       "</div>"
      ],
      "text/plain": [
       "      CreditScore       Age    Tenure   Balance  NumOfProducts  HasCrCard  \\\n",
       "5025     1.411460 -0.667178  1.382108 -1.208750       0.803358          1   \n",
       "1050    -1.029366  0.967929 -0.353243 -1.208750      -0.930522          1   \n",
       "452      1.286290  2.025940 -0.006173  0.167996      -0.930522          1   \n",
       "6249    -0.674716 -0.667178 -1.394454 -1.208750       0.803358          0   \n",
       "5599    -0.330497  0.198467  1.035038 -1.208750       2.537238          1   \n",
       "\n",
       "      IsActiveMember  EstimatedSalary  Geography_Spain  Geography_Germany  \\\n",
       "5025               0         0.575595              0.0                0.0   \n",
       "1050               1         1.565763              0.0                0.0   \n",
       "452                0        -0.445612              0.0                0.0   \n",
       "6249               0        -1.181506              0.0                0.0   \n",
       "5599               1        -0.346373              0.0                1.0   \n",
       "\n",
       "      Gender_Female  \n",
       "5025            1.0  \n",
       "1050            1.0  \n",
       "452             1.0  \n",
       "6249            1.0  \n",
       "5599            0.0  "
      ]
     },
     "metadata": {},
     "output_type": "display_data"
    },
    {
     "data": {
      "text/html": [
       "<div>\n",
       "<style scoped>\n",
       "    .dataframe tbody tr th:only-of-type {\n",
       "        vertical-align: middle;\n",
       "    }\n",
       "\n",
       "    .dataframe tbody tr th {\n",
       "        vertical-align: top;\n",
       "    }\n",
       "\n",
       "    .dataframe thead th {\n",
       "        text-align: right;\n",
       "    }\n",
       "</style>\n",
       "<table border=\"1\" class=\"dataframe\">\n",
       "  <thead>\n",
       "    <tr style=\"text-align: right;\">\n",
       "      <th></th>\n",
       "      <th>CreditScore</th>\n",
       "      <th>Age</th>\n",
       "      <th>Tenure</th>\n",
       "      <th>Balance</th>\n",
       "      <th>NumOfProducts</th>\n",
       "      <th>HasCrCard</th>\n",
       "      <th>IsActiveMember</th>\n",
       "      <th>EstimatedSalary</th>\n",
       "      <th>Geography_Germany</th>\n",
       "      <th>Geography_France</th>\n",
       "      <th>Gender_Female</th>\n",
       "    </tr>\n",
       "  </thead>\n",
       "  <tbody>\n",
       "    <tr>\n",
       "      <th>2965</th>\n",
       "      <td>-0.695578</td>\n",
       "      <td>-0.667178</td>\n",
       "      <td>1.382108</td>\n",
       "      <td>0.162279</td>\n",
       "      <td>-0.930522</td>\n",
       "      <td>0</td>\n",
       "      <td>0</td>\n",
       "      <td>1.199379</td>\n",
       "      <td>0.0</td>\n",
       "      <td>1.0</td>\n",
       "      <td>1.0</td>\n",
       "    </tr>\n",
       "    <tr>\n",
       "      <th>4550</th>\n",
       "      <td>0.983794</td>\n",
       "      <td>0.487016</td>\n",
       "      <td>-1.741524</td>\n",
       "      <td>0.708918</td>\n",
       "      <td>-0.930522</td>\n",
       "      <td>1</td>\n",
       "      <td>1</td>\n",
       "      <td>-1.135982</td>\n",
       "      <td>1.0</td>\n",
       "      <td>0.0</td>\n",
       "      <td>0.0</td>\n",
       "    </tr>\n",
       "    <tr>\n",
       "      <th>1743</th>\n",
       "      <td>-1.196260</td>\n",
       "      <td>-1.532822</td>\n",
       "      <td>0.340898</td>\n",
       "      <td>0.271786</td>\n",
       "      <td>0.803358</td>\n",
       "      <td>1</td>\n",
       "      <td>0</td>\n",
       "      <td>0.360007</td>\n",
       "      <td>1.0</td>\n",
       "      <td>0.0</td>\n",
       "      <td>1.0</td>\n",
       "    </tr>\n",
       "    <tr>\n",
       "      <th>950</th>\n",
       "      <td>-0.393082</td>\n",
       "      <td>-0.090081</td>\n",
       "      <td>1.382108</td>\n",
       "      <td>-0.133024</td>\n",
       "      <td>-0.930522</td>\n",
       "      <td>1</td>\n",
       "      <td>0</td>\n",
       "      <td>-0.368885</td>\n",
       "      <td>1.0</td>\n",
       "      <td>0.0</td>\n",
       "      <td>1.0</td>\n",
       "    </tr>\n",
       "    <tr>\n",
       "      <th>6329</th>\n",
       "      <td>-0.580838</td>\n",
       "      <td>1.256478</td>\n",
       "      <td>1.382108</td>\n",
       "      <td>-1.208750</td>\n",
       "      <td>-0.930522</td>\n",
       "      <td>1</td>\n",
       "      <td>1</td>\n",
       "      <td>0.112033</td>\n",
       "      <td>0.0</td>\n",
       "      <td>0.0</td>\n",
       "      <td>1.0</td>\n",
       "    </tr>\n",
       "  </tbody>\n",
       "</table>\n",
       "</div>"
      ],
      "text/plain": [
       "      CreditScore       Age    Tenure   Balance  NumOfProducts  HasCrCard  \\\n",
       "2965    -0.695578 -0.667178  1.382108  0.162279      -0.930522          0   \n",
       "4550     0.983794  0.487016 -1.741524  0.708918      -0.930522          1   \n",
       "1743    -1.196260 -1.532822  0.340898  0.271786       0.803358          1   \n",
       "950     -0.393082 -0.090081  1.382108 -0.133024      -0.930522          1   \n",
       "6329    -0.580838  1.256478  1.382108 -1.208750      -0.930522          1   \n",
       "\n",
       "      IsActiveMember  EstimatedSalary  Geography_Germany  Geography_France  \\\n",
       "2965               0         1.199379                0.0               1.0   \n",
       "4550               1        -1.135982                1.0               0.0   \n",
       "1743               0         0.360007                1.0               0.0   \n",
       "950                0        -0.368885                1.0               0.0   \n",
       "6329               1         0.112033                0.0               0.0   \n",
       "\n",
       "      Gender_Female  \n",
       "2965            1.0  \n",
       "4550            0.0  \n",
       "1743            1.0  \n",
       "950             1.0  \n",
       "6329            1.0  "
      ]
     },
     "metadata": {},
     "output_type": "display_data"
    },
    {
     "data": {
      "text/html": [
       "<div>\n",
       "<style scoped>\n",
       "    .dataframe tbody tr th:only-of-type {\n",
       "        vertical-align: middle;\n",
       "    }\n",
       "\n",
       "    .dataframe tbody tr th {\n",
       "        vertical-align: top;\n",
       "    }\n",
       "\n",
       "    .dataframe thead th {\n",
       "        text-align: right;\n",
       "    }\n",
       "</style>\n",
       "<table border=\"1\" class=\"dataframe\">\n",
       "  <thead>\n",
       "    <tr style=\"text-align: right;\">\n",
       "      <th></th>\n",
       "      <th>CreditScore</th>\n",
       "      <th>Age</th>\n",
       "      <th>Tenure</th>\n",
       "      <th>Balance</th>\n",
       "      <th>NumOfProducts</th>\n",
       "      <th>HasCrCard</th>\n",
       "      <th>IsActiveMember</th>\n",
       "      <th>EstimatedSalary</th>\n",
       "      <th>Geography_Germany</th>\n",
       "      <th>Geography_France</th>\n",
       "      <th>Gender_Female</th>\n",
       "    </tr>\n",
       "  </thead>\n",
       "  <tbody>\n",
       "    <tr>\n",
       "      <th>935</th>\n",
       "      <td>-0.653854</td>\n",
       "      <td>-0.474812</td>\n",
       "      <td>0.340898</td>\n",
       "      <td>0.732866</td>\n",
       "      <td>0.803358</td>\n",
       "      <td>1</td>\n",
       "      <td>0</td>\n",
       "      <td>-0.232203</td>\n",
       "      <td>0.0</td>\n",
       "      <td>1.0</td>\n",
       "      <td>1.0</td>\n",
       "    </tr>\n",
       "    <tr>\n",
       "      <th>4192</th>\n",
       "      <td>-0.330497</td>\n",
       "      <td>-0.763360</td>\n",
       "      <td>-1.047384</td>\n",
       "      <td>-0.309268</td>\n",
       "      <td>0.803358</td>\n",
       "      <td>0</td>\n",
       "      <td>0</td>\n",
       "      <td>-1.691514</td>\n",
       "      <td>1.0</td>\n",
       "      <td>0.0</td>\n",
       "      <td>0.0</td>\n",
       "    </tr>\n",
       "    <tr>\n",
       "      <th>7620</th>\n",
       "      <td>0.962932</td>\n",
       "      <td>-1.340457</td>\n",
       "      <td>0.340898</td>\n",
       "      <td>-1.208750</td>\n",
       "      <td>0.803358</td>\n",
       "      <td>1</td>\n",
       "      <td>0</td>\n",
       "      <td>0.517203</td>\n",
       "      <td>0.0</td>\n",
       "      <td>1.0</td>\n",
       "      <td>1.0</td>\n",
       "    </tr>\n",
       "    <tr>\n",
       "      <th>1381</th>\n",
       "      <td>0.034584</td>\n",
       "      <td>-0.186264</td>\n",
       "      <td>-0.006173</td>\n",
       "      <td>0.588828</td>\n",
       "      <td>-0.930522</td>\n",
       "      <td>1</td>\n",
       "      <td>0</td>\n",
       "      <td>-0.414585</td>\n",
       "      <td>1.0</td>\n",
       "      <td>0.0</td>\n",
       "      <td>1.0</td>\n",
       "    </tr>\n",
       "    <tr>\n",
       "      <th>797</th>\n",
       "      <td>0.806469</td>\n",
       "      <td>-0.667178</td>\n",
       "      <td>-0.006173</td>\n",
       "      <td>-0.217756</td>\n",
       "      <td>-0.930522</td>\n",
       "      <td>1</td>\n",
       "      <td>1</td>\n",
       "      <td>0.974066</td>\n",
       "      <td>1.0</td>\n",
       "      <td>0.0</td>\n",
       "      <td>1.0</td>\n",
       "    </tr>\n",
       "  </tbody>\n",
       "</table>\n",
       "</div>"
      ],
      "text/plain": [
       "      CreditScore       Age    Tenure   Balance  NumOfProducts  HasCrCard  \\\n",
       "935     -0.653854 -0.474812  0.340898  0.732866       0.803358          1   \n",
       "4192    -0.330497 -0.763360 -1.047384 -0.309268       0.803358          0   \n",
       "7620     0.962932 -1.340457  0.340898 -1.208750       0.803358          1   \n",
       "1381     0.034584 -0.186264 -0.006173  0.588828      -0.930522          1   \n",
       "797      0.806469 -0.667178 -0.006173 -0.217756      -0.930522          1   \n",
       "\n",
       "      IsActiveMember  EstimatedSalary  Geography_Germany  Geography_France  \\\n",
       "935                0        -0.232203                0.0               1.0   \n",
       "4192               0        -1.691514                1.0               0.0   \n",
       "7620               0         0.517203                0.0               1.0   \n",
       "1381               0        -0.414585                1.0               0.0   \n",
       "797                1         0.974066                1.0               0.0   \n",
       "\n",
       "      Gender_Female  \n",
       "935             1.0  \n",
       "4192            0.0  \n",
       "7620            1.0  \n",
       "1381            1.0  \n",
       "797             1.0  "
      ]
     },
     "metadata": {},
     "output_type": "display_data"
    }
   ],
   "source": [
    "numeric = ['CreditScore', 'Age', 'Tenure', 'Balance', 'NumOfProducts', 'EstimatedSalary']\n",
    "\n",
    "scaler = StandardScaler()\n",
    "scaler.fit(features_ohe_train[numeric])\n",
    "\n",
    "features_ohe_train[numeric] = scaler.transform(features_ohe_train[numeric])\n",
    "display(features_ohe_train.head())\n",
    "\n",
    "features_ohe_valid[numeric] = scaler.transform(features_ohe_valid[numeric])\n",
    "display(features_ohe_valid.head())\n",
    "\n",
    "features_ohe_test[numeric] = scaler.transform(features_ohe_test[numeric])\n",
    "display(features_ohe_test.head())"
   ]
  },
  {
   "cell_type": "markdown",
   "metadata": {},
   "source": [
    "Определим доли положительного и отрицательного классов целевой переменной в исходном массиве данных."
   ]
  },
  {
   "cell_type": "code",
   "execution_count": 40,
   "metadata": {
    "scrolled": false
   },
   "outputs": [
    {
     "data": {
      "text/plain": [
       "0    0.793729\n",
       "1    0.206271\n",
       "Name: Exited, dtype: float64"
      ]
     },
     "execution_count": 40,
     "metadata": {},
     "output_type": "execute_result"
    }
   ],
   "source": [
    "target_train.value_counts(normalize=True)"
   ]
  },
  {
   "cell_type": "markdown",
   "metadata": {},
   "source": [
    "### Выводы по разделу: ###\n",
    "\n",
    "1. Проивзедено знакомство с данными.\n",
    "2. Удалены строки с пропусками.\n",
    "3. Произведена обработка категориальных признаков методом OHE.\n",
    "4. Произведено масштабирование количественных признаков.\n",
    "5. Исходные данные разбиты на тренировочную, валидационную и тестовую выборки.\n",
    "6. Определены положительного и отрицательного классов целевой переменной в исходном массиве данных."
   ]
  },
  {
   "cell_type": "code",
   "execution_count": null,
   "metadata": {},
   "outputs": [],
   "source": []
  },
  {
   "cell_type": "markdown",
   "metadata": {},
   "source": [
    "## Исследование задачи"
   ]
  },
  {
   "cell_type": "markdown",
   "metadata": {},
   "source": [
    "Обучим о проверим модели дерева решений, случайного леса и логистической регрессии"
   ]
  },
  {
   "cell_type": "markdown",
   "metadata": {},
   "source": [
    "### Модель дерева решений. ###"
   ]
  },
  {
   "cell_type": "code",
   "execution_count": 12,
   "metadata": {},
   "outputs": [
    {
     "name": "stdout",
     "output_type": "stream",
     "text": [
      "Лучшее значение F1-меры: 0.5923460898502495\n",
      "Лучшая глубина деревьев: 8\n",
      "Метрика AUC-ROC: 0.7045965311063893\n"
     ]
    }
   ],
   "source": [
    "f1_best = 0\n",
    "\n",
    "for depth in range(1, 16, 1):\n",
    "    \n",
    "    model = DecisionTreeClassifier(max_depth=depth, random_state=1644)\n",
    "    model.fit(features_ohe_train, target_train)\n",
    "    predicted_valid = model.predict(features_ohe_valid)\n",
    "    f1 = f1_score(target_valid, predicted_valid)\n",
    "    roc_auc = roc_auc_score(target_valid, model.predict_proba(features_ohe_valid)[:, 1])\n",
    "    \n",
    "    if f1 > f1_best:\n",
    "        f1_best = f1\n",
    "        depth_best = depth\n",
    "\n",
    "print('Лучшее значение F1-меры:', f1_best)\n",
    "print('Лучшая глубина деревьев:', depth_best)\n",
    "print('Метрика AUC-ROC:', roc_auc)"
   ]
  },
  {
   "cell_type": "markdown",
   "metadata": {},
   "source": [
    "### Модель случайного леса. ###\n",
    "\n",
    "Определим наилучшую комбинацию гиперпараметров: макимальную глубину дерева и число деревьев."
   ]
  },
  {
   "cell_type": "code",
   "execution_count": 13,
   "metadata": {},
   "outputs": [
    {
     "name": "stdout",
     "output_type": "stream",
     "text": [
      "Лучшее значение F1-меры: 0.6088435374149659\n",
      "Лучшая глубина деревьев: 15\n",
      "Лучшее количество деревьев: 60\n",
      "Метрика AUC-ROC: 0.8627672085783467\n"
     ]
    }
   ],
   "source": [
    "f1_best = 0\n",
    "\n",
    "for depth in range(1, 16, 1):    \n",
    "    for estimator in range(20, 121, 20):\n",
    "        \n",
    "        model = RandomForestClassifier(max_depth=depth, n_estimators=estimator, random_state=1644)\n",
    "        model.fit(features_ohe_train, target_train)\n",
    "        predicted_valid = model.predict(features_ohe_valid)\n",
    "        f1 = f1_score(target_valid, predicted_valid)\n",
    "        roc_auc = roc_auc_score(target_valid, model.predict_proba(features_ohe_valid)[:, 1])\n",
    "        \n",
    "        if f1 > f1_best:\n",
    "            f1_best = f1\n",
    "            depth_best_forest = depth\n",
    "            n_estimators_best = estimator\n",
    "\n",
    "print('Лучшее значение F1-меры:', f1_best)\n",
    "print('Лучшая глубина деревьев:', depth_best_forest)\n",
    "print('Лучшее количество деревьев:', n_estimators_best)\n",
    "print('Метрика AUC-ROC:', roc_auc)"
   ]
  },
  {
   "cell_type": "markdown",
   "metadata": {},
   "source": [
    "### Модель логистиеской регрессии. ###"
   ]
  },
  {
   "cell_type": "code",
   "execution_count": 14,
   "metadata": {},
   "outputs": [
    {
     "name": "stdout",
     "output_type": "stream",
     "text": [
      "Значение F1-меры: 0.3705179282868526\n",
      "Метрика AUC-ROC: 0.7624371201265009\n"
     ]
    }
   ],
   "source": [
    "model = LogisticRegression(solver='liblinear', random_state=1644)\n",
    "model.fit(features_ohe_train, target_train)\n",
    "predicted_valid = model.predict(features_ohe_valid)\n",
    "f1_reg = f1_score(target_valid, predicted_valid)\n",
    "roc_auc = roc_auc_score(target_valid, model.predict_proba(features_ohe_valid)[:, 1])\n",
    "\n",
    "print('Значение F1-меры:', f1_reg)\n",
    "print('Метрика AUC-ROC:', roc_auc)"
   ]
  },
  {
   "cell_type": "markdown",
   "metadata": {},
   "source": [
    "### Выводы по разделу: ###\n",
    "\n",
    "1. Были обучены и проверены модели дерева решений, случайного леса и логистической регрессии (без обработки дисбаланса классов).\n",
    "2. Лучшие значения метрики F1 были получены на модели случайного леса. Наивысшее значение F1 - 0.6088."
   ]
  },
  {
   "cell_type": "markdown",
   "metadata": {},
   "source": [
    "## Борьба с дисбалансом"
   ]
  },
  {
   "cell_type": "markdown",
   "metadata": {},
   "source": [
    "Устраним дисбаланс классов тремя разными способами:\n",
    "1. Методом Upsampling.\n",
    "2. Методом Downsampling.\n",
    "3. Путем изменения веса классов в параметрах модели."
   ]
  },
  {
   "cell_type": "markdown",
   "metadata": {},
   "source": [
    "### Upsampling. ###\n",
    "\n",
    "Создадим функцию по увеличению выборки методом Upsampling."
   ]
  },
  {
   "cell_type": "code",
   "execution_count": 15,
   "metadata": {},
   "outputs": [],
   "source": [
    "def upsample(features, target, repeat):\n",
    "    \n",
    "    features_zero = features[target == 0]\n",
    "    features_one = features[target == 1]\n",
    "    target_zero = target[target == 0]\n",
    "    target_one = target[target == 1]\n",
    "    \n",
    "    features_upsampled = pd.concat([features_zero] + [features_one] * repeat)\n",
    "    target_upsampled = pd.concat([target_zero] + [target_one] * repeat)\n",
    "    \n",
    "    features_upsampled, target_upsampled = shuffle(features_upsampled, target_upsampled, random_state=1644)\n",
    "    \n",
    "    return features_upsampled, target_upsampled"
   ]
  },
  {
   "cell_type": "code",
   "execution_count": 16,
   "metadata": {},
   "outputs": [],
   "source": [
    "features_ohe_train_up, target_train_up = upsample(features_ohe_train, target_train, 4)"
   ]
  },
  {
   "cell_type": "markdown",
   "metadata": {},
   "source": [
    "#### Модель дерева решений"
   ]
  },
  {
   "cell_type": "code",
   "execution_count": 17,
   "metadata": {},
   "outputs": [
    {
     "name": "stdout",
     "output_type": "stream",
     "text": [
      "Лучшее значение F1-меры: 0.5711111111111111\n",
      "Лучшая глубина деревьев: 6\n",
      "Метрика AUC-ROC: 0.7028037752631318\n"
     ]
    }
   ],
   "source": [
    "f1_best = 0\n",
    "\n",
    "for depth in range(1, 16, 1):\n",
    "    \n",
    "    model = DecisionTreeClassifier(max_depth=depth, random_state=1644)\n",
    "    model.fit(features_ohe_train_up, target_train_up)\n",
    "    predicted_valid = model.predict(features_ohe_valid)\n",
    "    f1 = f1_score(target_valid, predicted_valid)\n",
    "    roc_auc = roc_auc_score(target_valid, model.predict_proba(features_ohe_valid)[:, 1])\n",
    "    \n",
    "    if f1 > f1_best:\n",
    "        f1_best = f1\n",
    "        depth_best = depth\n",
    "\n",
    "print('Лучшее значение F1-меры:', f1_best)\n",
    "print('Лучшая глубина деревьев:', depth_best)\n",
    "print('Метрика AUC-ROC:', roc_auc)"
   ]
  },
  {
   "cell_type": "markdown",
   "metadata": {},
   "source": [
    "#### Модель случайного леса"
   ]
  },
  {
   "cell_type": "code",
   "execution_count": 18,
   "metadata": {},
   "outputs": [
    {
     "name": "stdout",
     "output_type": "stream",
     "text": [
      "Лучшее значение F1-меры: 0.6229985443959243\n",
      "Лучшая глубина деревьев: 14\n",
      "Лучшее количество деревьев: 120\n",
      "Метрика AUC-ROC: 0.8588427138409843\n"
     ]
    }
   ],
   "source": [
    "f1_best = 0\n",
    "\n",
    "for depth in range(1, 16, 1):    \n",
    "    for estimator in range(20, 121, 20):\n",
    "        \n",
    "        model = RandomForestClassifier(max_depth=depth, n_estimators=estimator, random_state=1644)\n",
    "        model.fit(features_ohe_train_up, target_train_up)\n",
    "        predicted_valid = model.predict(features_ohe_valid)\n",
    "        f1 = f1_score(target_valid, predicted_valid)\n",
    "        roc_auc = roc_auc_score(target_valid, model.predict_proba(features_ohe_valid)[:, 1])\n",
    "        \n",
    "        if f1 > f1_best:\n",
    "            f1_best = f1\n",
    "            depth_best_forest = depth\n",
    "            n_estimators_best = estimator\n",
    "\n",
    "print('Лучшее значение F1-меры:', f1_best)\n",
    "print('Лучшая глубина деревьев:', depth_best_forest)\n",
    "print('Лучшее количество деревьев:', n_estimators_best)\n",
    "print('Метрика AUC-ROC:', roc_auc)"
   ]
  },
  {
   "cell_type": "markdown",
   "metadata": {},
   "source": [
    "#### Модель логистической регрессии"
   ]
  },
  {
   "cell_type": "code",
   "execution_count": 19,
   "metadata": {},
   "outputs": [
    {
     "name": "stdout",
     "output_type": "stream",
     "text": [
      "Значение F1-меры: 0.47013487475915217\n",
      "Метрика AUC-ROC: 0.7686850817808963\n"
     ]
    }
   ],
   "source": [
    "model = LogisticRegression(solver='liblinear', random_state=1644)\n",
    "model.fit(features_ohe_train_up, target_train_up)\n",
    "predicted_valid = model.predict(features_ohe_valid)\n",
    "f1_reg = f1_score(target_valid, predicted_valid)\n",
    "roc_auc = roc_auc_score(target_valid, model.predict_proba(features_ohe_valid)[:, 1])\n",
    "\n",
    "print('Значение F1-меры:', f1_reg)\n",
    "print('Метрика AUC-ROC:', roc_auc)"
   ]
  },
  {
   "cell_type": "code",
   "execution_count": null,
   "metadata": {},
   "outputs": [],
   "source": []
  },
  {
   "cell_type": "markdown",
   "metadata": {},
   "source": [
    "### Downsampling. ###\n",
    "\n",
    "Аналогично создадим функцию по уменьшению выборки методом Downsampling."
   ]
  },
  {
   "cell_type": "code",
   "execution_count": 20,
   "metadata": {},
   "outputs": [],
   "source": [
    "def downsample(features, target, fraction):\n",
    "    \n",
    "    features_zero = features[target == 0]\n",
    "    features_one = features[target == 1]\n",
    "    target_zero = target[target == 0]\n",
    "    target_one = target[target == 1]\n",
    "    \n",
    "    features_downsampled = pd.concat([features_zero] + [features_one.sample(frac=fraction, random_state=1644)])\n",
    "    target_downsampled = pd.concat([target_zero] + [target_one.sample(frac=fraction, random_state=1644)])\n",
    "    \n",
    "    features_downsampled, target_downsampled = shuffle(features_downsampled, target_downsampled, random_state=1644)\n",
    "    \n",
    "    return features_downsampled, target_downsampled"
   ]
  },
  {
   "cell_type": "code",
   "execution_count": 21,
   "metadata": {},
   "outputs": [],
   "source": [
    "features_ohe_train_down, target_train_down = downsample(features_ohe_train, target_train, 0.25)"
   ]
  },
  {
   "cell_type": "markdown",
   "metadata": {},
   "source": [
    "#### Модель дерева решений"
   ]
  },
  {
   "cell_type": "code",
   "execution_count": 22,
   "metadata": {},
   "outputs": [
    {
     "name": "stdout",
     "output_type": "stream",
     "text": [
      "Лучшее значение F1-меры: 0.5180722891566265\n",
      "Лучшая глубина деревьев: 6\n",
      "Метрика AUC-ROC: 0.6565133171912834\n"
     ]
    }
   ],
   "source": [
    "f1_best = 0\n",
    "\n",
    "for depth in range(1, 16, 1):\n",
    "    \n",
    "    model = DecisionTreeClassifier(max_depth=depth, random_state=1644)\n",
    "    model.fit(features_ohe_train_down, target_train_down)\n",
    "    predicted_valid = model.predict(features_ohe_valid)\n",
    "    f1 = f1_score(target_valid, predicted_valid)\n",
    "    roc_auc = roc_auc_score(target_valid, model.predict_proba(features_ohe_valid)[:, 1])\n",
    "    \n",
    "    if f1 > f1_best:\n",
    "        f1_best = f1\n",
    "        depth_best = depth\n",
    "\n",
    "print('Лучшее значение F1-меры:', f1_best)\n",
    "print('Лучшая глубина деревьев:', depth_best)\n",
    "print('Метрика AUC-ROC:', roc_auc)"
   ]
  },
  {
   "cell_type": "markdown",
   "metadata": {},
   "source": [
    "#### Модель случайного леса"
   ]
  },
  {
   "cell_type": "code",
   "execution_count": 23,
   "metadata": {},
   "outputs": [
    {
     "name": "stdout",
     "output_type": "stream",
     "text": [
      "Лучшее значение F1-меры: 0.40632054176072235\n",
      "Лучшая глубина деревьев: 14\n",
      "Лучшее количество деревьев: 80\n",
      "Метрика AUC-ROC: 0.8370371102436132\n"
     ]
    }
   ],
   "source": [
    "f1_best = 0\n",
    "\n",
    "for depth in range(1, 16, 1):    \n",
    "    for estimator in range(20, 121, 20):\n",
    "        \n",
    "        model = RandomForestClassifier(max_depth=depth, n_estimators=estimator, random_state=1644)\n",
    "        model.fit(features_ohe_train_down, target_train_down)\n",
    "        predicted_valid = model.predict(features_ohe_valid)\n",
    "        f1 = f1_score(target_valid, predicted_valid)\n",
    "        roc_auc = roc_auc_score(target_valid, model.predict_proba(features_ohe_valid)[:, 1])\n",
    "        \n",
    "        if f1 > f1_best:\n",
    "            f1_best = f1\n",
    "            depth_best_forest = depth\n",
    "            n_estimators_best = estimator\n",
    "\n",
    "print('Лучшее значение F1-меры:', f1_best)\n",
    "print('Лучшая глубина деревьев:', depth_best_forest)\n",
    "print('Лучшее количество деревьев:', n_estimators_best)\n",
    "print('Метрика AUC-ROC:', roc_auc)"
   ]
  },
  {
   "cell_type": "markdown",
   "metadata": {},
   "source": [
    "#### Модель логистической регрессии"
   ]
  },
  {
   "cell_type": "code",
   "execution_count": 24,
   "metadata": {},
   "outputs": [
    {
     "name": "stdout",
     "output_type": "stream",
     "text": [
      "Значение F1-меры: 0.06179775280898876\n",
      "Метрика AUC-ROC: 0.7534219498937589\n"
     ]
    }
   ],
   "source": [
    "model = LogisticRegression(solver='liblinear', random_state=1644)\n",
    "model.fit(features_ohe_train_down, target_train_down)\n",
    "predicted_valid = model.predict(features_ohe_valid)\n",
    "f1_reg = f1_score(target_valid, predicted_valid)\n",
    "roc_auc = roc_auc_score(target_valid, model.predict_proba(features_ohe_valid)[:, 1])\n",
    "\n",
    "print('Значение F1-меры:', f1_reg)\n",
    "print('Метрика AUC-ROC:', roc_auc)"
   ]
  },
  {
   "cell_type": "code",
   "execution_count": null,
   "metadata": {},
   "outputs": [],
   "source": []
  },
  {
   "cell_type": "markdown",
   "metadata": {},
   "source": [
    "### Вес классов. ###\n",
    "\n",
    "Зададим в модели сбалансированный режим выбора веса классов (параметр class_weight='balanced')."
   ]
  },
  {
   "cell_type": "markdown",
   "metadata": {},
   "source": [
    "#### Модель дерева решений"
   ]
  },
  {
   "cell_type": "code",
   "execution_count": 25,
   "metadata": {},
   "outputs": [
    {
     "name": "stdout",
     "output_type": "stream",
     "text": [
      "Лучшее значение F1-меры: 0.5864485981308412\n",
      "Лучшая глубина деревьев: 7\n",
      "Метрика AUC-ROC: 0.7021317388941049\n"
     ]
    }
   ],
   "source": [
    "f1_best = 0\n",
    "\n",
    "for depth in range(1, 16, 1):\n",
    "    \n",
    "    model = DecisionTreeClassifier(max_depth=depth, random_state=1644, class_weight='balanced')\n",
    "    model.fit(features_ohe_train, target_train)\n",
    "    predicted_valid = model.predict(features_ohe_valid)\n",
    "    f1 = f1_score(target_valid, predicted_valid)\n",
    "    roc_auc = roc_auc_score(target_valid, model.predict_proba(features_ohe_valid)[:, 1])\n",
    "    \n",
    "    if f1 > f1_best:\n",
    "        f1_best = f1\n",
    "        depth_best = depth\n",
    "\n",
    "print('Лучшее значение F1-меры:', f1_best)\n",
    "print('Лучшая глубина деревьев:', depth_best)\n",
    "print('Метрика AUC-ROC:', roc_auc)"
   ]
  },
  {
   "cell_type": "markdown",
   "metadata": {},
   "source": [
    "#### Модель случайного леса"
   ]
  },
  {
   "cell_type": "code",
   "execution_count": 47,
   "metadata": {},
   "outputs": [
    {
     "name": "stdout",
     "output_type": "stream",
     "text": [
      "Лучшее значение F1-меры: 0.637037037037037\n",
      "Лучшая глубина деревьев: 11\n",
      "Лучшее количество деревьев: 80\n",
      "Метрика AUC-ROC: 0.8602520136383853\n"
     ]
    }
   ],
   "source": [
    "f1_best = 0\n",
    "\n",
    "for depth in range(1, 16, 1):    \n",
    "    for estimator in range(20, 121, 20):\n",
    "        \n",
    "        model = RandomForestClassifier(max_depth=depth, n_estimators=estimator, random_state=1644, class_weight='balanced')\n",
    "        model.fit(features_ohe_train, target_train)\n",
    "        predicted_valid = model.predict(features_ohe_valid)\n",
    "        f1 = f1_score(target_valid, predicted_valid)\n",
    "        roc_auc = roc_auc_score(target_valid, model.predict_proba(features_ohe_valid)[:, 1])\n",
    "        \n",
    "        if f1 > f1_best:\n",
    "            f1_best = f1\n",
    "            depth_best_forest = depth\n",
    "            n_estimators_best = estimator\n",
    "\n",
    "print('Лучшее значение F1-меры:', f1_best)\n",
    "print('Лучшая глубина деревьев:', depth_best_forest)\n",
    "print('Лучшее количество деревьев:', n_estimators_best)\n",
    "print('Метрика AUC-ROC:', roc_auc)"
   ]
  },
  {
   "cell_type": "markdown",
   "metadata": {},
   "source": [
    "#### Модель логистической регрессии"
   ]
  },
  {
   "cell_type": "code",
   "execution_count": 27,
   "metadata": {},
   "outputs": [
    {
     "name": "stdout",
     "output_type": "stream",
     "text": [
      "Значение F1-меры: 0.4725490196078431\n",
      "Метрика AUC-ROC: 0.7686178781439937\n"
     ]
    }
   ],
   "source": [
    "model = LogisticRegression(solver='liblinear', random_state=1644, class_weight='balanced')\n",
    "model.fit(features_ohe_train, target_train)\n",
    "predicted_valid = model.predict(features_ohe_valid)\n",
    "f1_reg = f1_score(target_valid, predicted_valid)\n",
    "roc_auc = roc_auc_score(target_valid, model.predict_proba(features_ohe_valid)[:, 1])\n",
    "\n",
    "print('Значение F1-меры:', f1_reg)\n",
    "print('Метрика AUC-ROC:', roc_auc)"
   ]
  },
  {
   "cell_type": "markdown",
   "metadata": {},
   "source": [
    "Сведем полученные данные по значениям F1-меры в зависимости от методам обработки выборки в таблицу."
   ]
  },
  {
   "cell_type": "code",
   "execution_count": 32,
   "metadata": {},
   "outputs": [
    {
     "data": {
      "text/html": [
       "<div>\n",
       "<style scoped>\n",
       "    .dataframe tbody tr th:only-of-type {\n",
       "        vertical-align: middle;\n",
       "    }\n",
       "\n",
       "    .dataframe tbody tr th {\n",
       "        vertical-align: top;\n",
       "    }\n",
       "\n",
       "    .dataframe thead th {\n",
       "        text-align: right;\n",
       "    }\n",
       "</style>\n",
       "<table border=\"1\" class=\"dataframe\">\n",
       "  <thead>\n",
       "    <tr style=\"text-align: right;\">\n",
       "      <th></th>\n",
       "      <th>Исходная выборка</th>\n",
       "      <th>Upsampling</th>\n",
       "      <th>Downsampling</th>\n",
       "      <th>class_weight</th>\n",
       "    </tr>\n",
       "  </thead>\n",
       "  <tbody>\n",
       "    <tr>\n",
       "      <th>Дерево решений</th>\n",
       "      <td>0.5923</td>\n",
       "      <td>0.5711</td>\n",
       "      <td>0.5181</td>\n",
       "      <td>0.5864</td>\n",
       "    </tr>\n",
       "    <tr>\n",
       "      <th>Случайный лес</th>\n",
       "      <td>0.6088</td>\n",
       "      <td>0.6230</td>\n",
       "      <td>0.4063</td>\n",
       "      <td>0.6370</td>\n",
       "    </tr>\n",
       "    <tr>\n",
       "      <th>Логистическая регрессия</th>\n",
       "      <td>0.3705</td>\n",
       "      <td>0.4701</td>\n",
       "      <td>0.0618</td>\n",
       "      <td>0.4725</td>\n",
       "    </tr>\n",
       "  </tbody>\n",
       "</table>\n",
       "</div>"
      ],
      "text/plain": [
       "                         Исходная выборка  Upsampling  Downsampling  \\\n",
       "Дерево решений                     0.5923      0.5711        0.5181   \n",
       "Случайный лес                      0.6088      0.6230        0.4063   \n",
       "Логистическая регрессия            0.3705      0.4701        0.0618   \n",
       "\n",
       "                         class_weight  \n",
       "Дерево решений                 0.5864  \n",
       "Случайный лес                  0.6370  \n",
       "Логистическая регрессия        0.4725  "
      ]
     },
     "metadata": {},
     "output_type": "display_data"
    }
   ],
   "source": [
    "results = pd.DataFrame(\n",
    "    np.array(\n",
    "        [[0.5923, 0.5711, 0.5181, 0.5864],\n",
    "         [0.6088, 0.6230, 0.4063, 0.6370],\n",
    "         [0.3705, 0.4701, 0.0618, 0.4725]]), \n",
    "columns=['Исходная выборка', 'Upsampling', 'Downsampling', 'class_weight'],\n",
    "index=['Дерево решений', 'Случайный лес', 'Логистическая регрессия'])\n",
    "display(results)"
   ]
  },
  {
   "cell_type": "markdown",
   "metadata": {},
   "source": [
    "Также сведем полученные данные по значениям метрике AUC-ROC в зависимости от методам обработки выборки в таблицу."
   ]
  },
  {
   "cell_type": "code",
   "execution_count": 33,
   "metadata": {},
   "outputs": [
    {
     "data": {
      "text/html": [
       "<div>\n",
       "<style scoped>\n",
       "    .dataframe tbody tr th:only-of-type {\n",
       "        vertical-align: middle;\n",
       "    }\n",
       "\n",
       "    .dataframe tbody tr th {\n",
       "        vertical-align: top;\n",
       "    }\n",
       "\n",
       "    .dataframe thead th {\n",
       "        text-align: right;\n",
       "    }\n",
       "</style>\n",
       "<table border=\"1\" class=\"dataframe\">\n",
       "  <thead>\n",
       "    <tr style=\"text-align: right;\">\n",
       "      <th></th>\n",
       "      <th>Исходная выборка</th>\n",
       "      <th>Upsampling</th>\n",
       "      <th>Downsampling</th>\n",
       "      <th>class_weight</th>\n",
       "    </tr>\n",
       "  </thead>\n",
       "  <tbody>\n",
       "    <tr>\n",
       "      <th>Дерево решений</th>\n",
       "      <td>0.7046</td>\n",
       "      <td>0.7028</td>\n",
       "      <td>0.6565</td>\n",
       "      <td>0.7021</td>\n",
       "    </tr>\n",
       "    <tr>\n",
       "      <th>Случайный лес</th>\n",
       "      <td>0.8628</td>\n",
       "      <td>0.8588</td>\n",
       "      <td>0.8370</td>\n",
       "      <td>0.8603</td>\n",
       "    </tr>\n",
       "    <tr>\n",
       "      <th>Логистическая регрессия</th>\n",
       "      <td>0.7624</td>\n",
       "      <td>0.7687</td>\n",
       "      <td>0.7534</td>\n",
       "      <td>0.7686</td>\n",
       "    </tr>\n",
       "  </tbody>\n",
       "</table>\n",
       "</div>"
      ],
      "text/plain": [
       "                         Исходная выборка  Upsampling  Downsampling  \\\n",
       "Дерево решений                     0.7046      0.7028        0.6565   \n",
       "Случайный лес                      0.8628      0.8588        0.8370   \n",
       "Логистическая регрессия            0.7624      0.7687        0.7534   \n",
       "\n",
       "                         class_weight  \n",
       "Дерево решений                 0.7021  \n",
       "Случайный лес                  0.8603  \n",
       "Логистическая регрессия        0.7686  "
      ]
     },
     "metadata": {},
     "output_type": "display_data"
    }
   ],
   "source": [
    "results = pd.DataFrame(\n",
    "    np.array(\n",
    "        [[0.7046, 0.7028, 0.6565, 0.7021],\n",
    "         [0.8628, 0.8588, 0.8370, 0.8603],\n",
    "         [0.7624, 0.7687, 0.7534, 0.7686]]), \n",
    "columns=['Исходная выборка', 'Upsampling', 'Downsampling', 'class_weight'],\n",
    "index=['Дерево решений', 'Случайный лес', 'Логистическая регрессия'])\n",
    "display(results)"
   ]
  },
  {
   "cell_type": "markdown",
   "metadata": {},
   "source": [
    "### Выводы по разделу: ###\n",
    "\n",
    "1. Наилучший результат по значению F1-меры получен после обработки дисбаланса классов методом указания веса классов. Значение составило 0.6370 (до обработки дисбаланса классов - 0.6088). Гиперпараметры модели: \n",
    "   - Глубина деревьев: 11\n",
    "   - Количество деревьев: 80\n",
    "\n",
    "\n",
    "2. После устранения дисбаланса классов методом Upsampling значения метрики F1 увеличились для модели случайного леса и логистической регрессии, но уменьшились для дерева решений.\n",
    "\n",
    "\n",
    "3. После применения метода Downsampling метрика F1 значительно снизилась для всех трех типов моделей. Вероятно, это связано с тем, что в уменьшенной выборке оказалось слишком мало данных для обучения.\n",
    "\n",
    "\n",
    "4. После устранения дисбаланса классов методом указания веса классов значения метрики F1 увеличились для модели случайного леса и логистической регрессии, но уменьшились для дерева решений.\n",
    "\n",
    "\n",
    "5. Метрика AUC-ROC для моделей дерева решений и случайного леса уменьшилась по сравнению с исходной выборкой после обработки дисбаланса каждым из трёх методов. Для логистисеской регрессии наблюдалось уменьшение метрики после использования метода Downsampling и рост значения AUC-ROC после применения двух оставльных методов."
   ]
  },
  {
   "cell_type": "markdown",
   "metadata": {},
   "source": [
    "## Тестирование модели"
   ]
  },
  {
   "cell_type": "markdown",
   "metadata": {},
   "source": [
    "Проведем тестирование модели на тестовой выборке. Определим метрики F1 и AUC-ROC."
   ]
  },
  {
   "cell_type": "code",
   "execution_count": 48,
   "metadata": {},
   "outputs": [
    {
     "name": "stdout",
     "output_type": "stream",
     "text": [
      "Значение F1-меры: 0.5902578796561605\n",
      "Значение метрики AUC-ROC: 0.859508838662323\n"
     ]
    }
   ],
   "source": [
    "model = RandomForestClassifier(max_depth=11, n_estimators=80, random_state=1644, class_weight='balanced')\n",
    "model.fit(features_ohe_train, target_train)\n",
    "predicted_test = model.predict(features_ohe_test)\n",
    "f1 = f1_score(target_test, predicted_test)\n",
    "roc_auc = roc_auc_score(target_test, model.predict_proba(features_ohe_test)[:, 1])\n",
    "\n",
    "print('Значение F1-меры:', f1)\n",
    "print('Значение метрики AUC-ROC:', roc_auc)"
   ]
  },
  {
   "cell_type": "markdown",
   "metadata": {},
   "source": [
    "Построим график кривой ROC."
   ]
  },
  {
   "cell_type": "code",
   "execution_count": 31,
   "metadata": {},
   "outputs": [
    {
     "data": {
      "image/png": "[encoded data removed]",
      "text/plain": [
       "<Figure size 432x288 with 1 Axes>"
      ]
     },
     "metadata": {
      "needs_background": "light"
     },
     "output_type": "display_data"
    }
   ],
   "source": [
    "fpr, tpr, thresholds = roc_curve(target_test, model.predict_proba(features_ohe_test)[:, 1])\n",
    "\n",
    "plt.figure()\n",
    "plt.plot(fpr, tpr)\n",
    "plt.plot([0, 1], [0, 1], linestyle='--')\n",
    "plt.ylim([0.0, 1.0])\n",
    "plt.xlim([0.0, 1.0])\n",
    "plt.xlabel('False Positive Rate')\n",
    "plt.ylabel('True Positive Rate')\n",
    "plt.title('ROC-кривая')\n",
    "plt.show()"
   ]
  },
  {
   "cell_type": "markdown",
   "metadata": {},
   "source": [
    "### Выводы: ###\n",
    "1. Выбранная модель случайного леса с соответствующим набором гиперпараметров при тестировании превысила требуемую величину метрики F1, равную 0.59, и и достигла значения 0.5903. Значение метрики F1 существенно снизилось по сравнению с обучающей и валидационной выборками, что свидетельствует о переобучении модели.\n",
    "2. Значаение метрики AUC-ROC составило 0.8595."
   ]
  },
  {
   "cell_type": "markdown",
   "metadata": {},
   "source": [
    "## Вывод по проекту"
   ]
  },
  {
   "cell_type": "markdown",
   "metadata": {},
   "source": [
    "1. Произведена подготовка данных: удаление пропусков, обработка категориальных признаков методом OHE, масштабирование количественных признаков.\n",
    "2. Проведено обучение и проверка моделей дерева решений, случайного леса, логистической регрессии на исходной выборке.\n",
    "3. Проведено обучение и проверка моделей дерева решений, случайного леса, логистической регрессии на выборках, полученных после обработки дисбаланса классов методами апсэмплинга, даунсэмплинга и указания веса классов.\n",
    "4. Самый высокий результат метрики F1 был получен на выборке с указанием веса классов на модели случайного леса с гиперпараметрами: глубина деревьев - 10, количество деревьев - 100.\n",
    "5. Проведено тестирование лучшей модели. Выбранная модель случайного леса с соответствующим набором гиперпараметров при тестировании превысила требуемую величину метрики F1, равную 0.59, и и достигла значения 0.5903. Значаение метрики AUC-ROC составило 0.8595. "
   ]
  },
  {
   "cell_type": "code",
   "execution_count": null,
   "metadata": {},
   "outputs": [],
   "source": []
  }
 ],
 "metadata": {
  "ExecuteTimeLog": [
   {
    "duration": 48,
    "start_time": "2023-01-24T10:01:27.128Z"
   },
   {
    "duration": 1053,
    "start_time": "2023-01-24T10:01:30.071Z"
   },
   {
    "duration": 208,
    "start_time": "2023-01-24T10:01:32.565Z"
   },
   {
    "duration": 76,
    "start_time": "2023-01-24T10:06:18.016Z"
   },
   {
    "duration": 9,
    "start_time": "2023-01-24T10:07:37.773Z"
   },
   {
    "duration": 19,
    "start_time": "2023-01-24T10:07:44.576Z"
   },
   {
    "duration": 6,
    "start_time": "2023-01-24T10:09:01.663Z"
   },
   {
    "duration": 15,
    "start_time": "2023-01-24T10:12:55.295Z"
   },
   {
    "duration": 10,
    "start_time": "2023-01-24T10:13:12.668Z"
   },
   {
    "duration": 4,
    "start_time": "2023-01-24T10:14:59.300Z"
   },
   {
    "duration": 5,
    "start_time": "2023-01-24T10:15:42.562Z"
   },
   {
    "duration": 19,
    "start_time": "2023-01-24T10:15:53.795Z"
   },
   {
    "duration": 12,
    "start_time": "2023-01-24T10:17:24.159Z"
   },
   {
    "duration": 20,
    "start_time": "2023-01-24T10:17:38.793Z"
   },
   {
    "duration": 3,
    "start_time": "2023-01-24T10:20:28.290Z"
   },
   {
    "duration": 7,
    "start_time": "2023-01-24T15:29:25.848Z"
   },
   {
    "duration": 3,
    "start_time": "2023-01-24T16:29:54.414Z"
   },
   {
    "duration": 52,
    "start_time": "2023-01-25T08:36:47.919Z"
   },
   {
    "duration": 1180,
    "start_time": "2023-01-25T08:37:01.377Z"
   },
   {
    "duration": 110,
    "start_time": "2023-01-25T08:37:02.559Z"
   },
   {
    "duration": 21,
    "start_time": "2023-01-25T08:37:02.670Z"
   },
   {
    "duration": 33,
    "start_time": "2023-01-25T08:37:02.704Z"
   },
   {
    "duration": 7,
    "start_time": "2023-01-25T08:37:02.739Z"
   },
   {
    "duration": 8,
    "start_time": "2023-01-25T08:37:02.748Z"
   },
   {
    "duration": 11,
    "start_time": "2023-01-25T08:37:02.758Z"
   },
   {
    "duration": 163,
    "start_time": "2023-01-25T08:54:43.801Z"
   },
   {
    "duration": 170,
    "start_time": "2023-01-25T08:55:09.129Z"
   },
   {
    "duration": 317,
    "start_time": "2023-01-25T08:56:51.492Z"
   },
   {
    "duration": 77,
    "start_time": "2023-01-25T08:58:25.293Z"
   },
   {
    "duration": 1551,
    "start_time": "2023-01-25T08:58:41.080Z"
   },
   {
    "duration": 2383,
    "start_time": "2023-01-25T09:02:32.905Z"
   },
   {
    "duration": 66,
    "start_time": "2023-01-25T09:06:14.805Z"
   },
   {
    "duration": 67,
    "start_time": "2023-01-25T09:06:45.828Z"
   },
   {
    "duration": 32,
    "start_time": "2023-01-25T09:07:11.536Z"
   },
   {
    "duration": 1009,
    "start_time": "2023-01-25T09:07:27.989Z"
   },
   {
    "duration": 50,
    "start_time": "2023-01-25T09:07:53.269Z"
   },
   {
    "duration": 3,
    "start_time": "2023-01-25T09:18:10.536Z"
   },
   {
    "duration": 911,
    "start_time": "2023-01-25T09:22:09.901Z"
   },
   {
    "duration": 8,
    "start_time": "2023-01-25T09:22:45.384Z"
   },
   {
    "duration": 18,
    "start_time": "2023-01-25T09:22:48.514Z"
   },
   {
    "duration": 89,
    "start_time": "2023-01-25T09:23:39.906Z"
   },
   {
    "duration": 3,
    "start_time": "2023-01-25T09:23:52.907Z"
   },
   {
    "duration": 2006,
    "start_time": "2023-01-25T09:23:59.774Z"
   },
   {
    "duration": 3046,
    "start_time": "2023-01-25T09:26:52.783Z"
   },
   {
    "duration": 2926,
    "start_time": "2023-01-25T09:27:22.910Z"
   },
   {
    "duration": 3073,
    "start_time": "2023-01-25T09:27:36.351Z"
   },
   {
    "duration": 40,
    "start_time": "2023-01-25T09:29:43.538Z"
   },
   {
    "duration": 3,
    "start_time": "2023-01-25T09:33:02.633Z"
   },
   {
    "duration": 1284,
    "start_time": "2023-01-25T09:35:25.971Z"
   },
   {
    "duration": 2121,
    "start_time": "2023-01-25T09:36:15.901Z"
   },
   {
    "duration": 1502,
    "start_time": "2023-01-25T09:39:57.112Z"
   },
   {
    "duration": 1684,
    "start_time": "2023-01-25T09:40:43.633Z"
   },
   {
    "duration": 1843,
    "start_time": "2023-01-25T09:41:38.429Z"
   },
   {
    "duration": 1046,
    "start_time": "2023-01-25T09:47:37.850Z"
   },
   {
    "duration": 56,
    "start_time": "2023-01-25T09:47:38.898Z"
   },
   {
    "duration": 14,
    "start_time": "2023-01-25T09:47:38.956Z"
   },
   {
    "duration": 27,
    "start_time": "2023-01-25T09:47:38.971Z"
   },
   {
    "duration": 10,
    "start_time": "2023-01-25T09:47:38.999Z"
   },
   {
    "duration": 10,
    "start_time": "2023-01-25T09:47:39.011Z"
   },
   {
    "duration": 17,
    "start_time": "2023-01-25T09:47:39.023Z"
   },
   {
    "duration": 272,
    "start_time": "2023-01-25T09:47:39.041Z"
   },
   {
    "duration": 1257,
    "start_time": "2023-01-25T09:47:39.315Z"
   },
   {
    "duration": 2245,
    "start_time": "2023-01-25T09:47:40.574Z"
   },
   {
    "duration": 75,
    "start_time": "2023-01-25T09:47:42.820Z"
   },
   {
    "duration": 11,
    "start_time": "2023-01-25T09:47:42.897Z"
   },
   {
    "duration": 1810,
    "start_time": "2023-01-25T09:47:42.992Z"
   },
   {
    "duration": 2877,
    "start_time": "2023-01-25T09:47:44.804Z"
   },
   {
    "duration": 5,
    "start_time": "2023-01-25T09:47:47.686Z"
   },
   {
    "duration": 1103,
    "start_time": "2023-01-25T09:47:47.692Z"
   },
   {
    "duration": 1868,
    "start_time": "2023-01-25T09:47:48.797Z"
   },
   {
    "duration": 1296,
    "start_time": "2023-01-25T09:47:50.666Z"
   },
   {
    "duration": 1861,
    "start_time": "2023-01-25T09:47:51.964Z"
   },
   {
    "duration": 2006,
    "start_time": "2023-01-25T09:48:34.273Z"
   },
   {
    "duration": 2433,
    "start_time": "2023-01-25T09:49:06.770Z"
   },
   {
    "duration": 110,
    "start_time": "2023-01-25T09:53:15.751Z"
   },
   {
    "duration": 101,
    "start_time": "2023-01-25T09:54:04.970Z"
   },
   {
    "duration": 79,
    "start_time": "2023-01-25T09:54:56.136Z"
   },
   {
    "duration": 74,
    "start_time": "2023-01-25T09:55:01.713Z"
   },
   {
    "duration": 76,
    "start_time": "2023-01-25T09:55:06.249Z"
   },
   {
    "duration": 194,
    "start_time": "2023-01-25T09:55:15.215Z"
   },
   {
    "duration": 100,
    "start_time": "2023-01-25T09:55:24.825Z"
   },
   {
    "duration": 107,
    "start_time": "2023-01-25T10:26:40.868Z"
   },
   {
    "duration": 112,
    "start_time": "2023-01-25T10:26:54.506Z"
   },
   {
    "duration": 12,
    "start_time": "2023-01-25T10:28:42.182Z"
   },
   {
    "duration": 6,
    "start_time": "2023-01-25T10:29:04.898Z"
   },
   {
    "duration": 10,
    "start_time": "2023-01-25T10:29:11.294Z"
   },
   {
    "duration": 20,
    "start_time": "2023-01-25T10:29:59.095Z"
   },
   {
    "duration": 469,
    "start_time": "2023-01-25T10:30:40.679Z"
   },
   {
    "duration": 135,
    "start_time": "2023-01-25T10:30:46.297Z"
   },
   {
    "duration": 1311,
    "start_time": "2023-01-25T10:31:44.175Z"
   },
   {
    "duration": 59,
    "start_time": "2023-01-25T10:31:45.488Z"
   },
   {
    "duration": 15,
    "start_time": "2023-01-25T10:31:45.549Z"
   },
   {
    "duration": 19,
    "start_time": "2023-01-25T10:31:45.566Z"
   },
   {
    "duration": 13,
    "start_time": "2023-01-25T10:31:45.587Z"
   },
   {
    "duration": 6,
    "start_time": "2023-01-25T10:31:45.602Z"
   },
   {
    "duration": 8,
    "start_time": "2023-01-25T10:31:45.609Z"
   },
   {
    "duration": 307,
    "start_time": "2023-01-25T10:31:45.619Z"
   },
   {
    "duration": 1388,
    "start_time": "2023-01-25T10:31:45.927Z"
   },
   {
    "duration": 2360,
    "start_time": "2023-01-25T10:31:47.318Z"
   },
   {
    "duration": 110,
    "start_time": "2023-01-25T10:31:49.680Z"
   },
   {
    "duration": 100,
    "start_time": "2023-01-25T10:31:49.792Z"
   },
   {
    "duration": 1762,
    "start_time": "2023-01-25T10:31:49.897Z"
   },
   {
    "duration": 2858,
    "start_time": "2023-01-25T10:31:51.661Z"
   },
   {
    "duration": 4,
    "start_time": "2023-01-25T10:31:54.520Z"
   },
   {
    "duration": 1105,
    "start_time": "2023-01-25T10:31:54.525Z"
   },
   {
    "duration": 1890,
    "start_time": "2023-01-25T10:31:55.631Z"
   },
   {
    "duration": 1272,
    "start_time": "2023-01-25T10:31:57.523Z"
   },
   {
    "duration": 1913,
    "start_time": "2023-01-25T10:31:58.798Z"
   },
   {
    "duration": 113,
    "start_time": "2023-01-25T10:32:00.713Z"
   },
   {
    "duration": 132,
    "start_time": "2023-01-25T10:32:00.828Z"
   },
   {
    "duration": 96,
    "start_time": "2023-01-25T11:33:11.117Z"
   },
   {
    "duration": 3,
    "start_time": "2023-01-25T11:33:16.904Z"
   },
   {
    "duration": 17,
    "start_time": "2023-01-25T11:33:21.790Z"
   },
   {
    "duration": 31,
    "start_time": "2023-01-25T11:33:32.947Z"
   },
   {
    "duration": 1274,
    "start_time": "2023-01-25T11:34:00.094Z"
   },
   {
    "duration": 56,
    "start_time": "2023-01-25T11:34:01.369Z"
   },
   {
    "duration": 15,
    "start_time": "2023-01-25T11:34:01.427Z"
   },
   {
    "duration": 75,
    "start_time": "2023-01-25T11:34:01.444Z"
   },
   {
    "duration": 60,
    "start_time": "2023-01-25T11:34:01.521Z"
   },
   {
    "duration": 24,
    "start_time": "2023-01-25T11:34:01.583Z"
   },
   {
    "duration": 48,
    "start_time": "2023-01-25T11:34:01.609Z"
   },
   {
    "duration": 286,
    "start_time": "2023-01-25T11:34:01.659Z"
   },
   {
    "duration": 1223,
    "start_time": "2023-01-25T11:34:01.947Z"
   },
   {
    "duration": 2226,
    "start_time": "2023-01-25T11:34:03.172Z"
   },
   {
    "duration": 17,
    "start_time": "2023-01-25T11:34:05.399Z"
   },
   {
    "duration": 76,
    "start_time": "2023-01-25T11:34:05.418Z"
   },
   {
    "duration": 1791,
    "start_time": "2023-01-25T11:34:05.496Z"
   },
   {
    "duration": 2657,
    "start_time": "2023-01-25T11:34:07.288Z"
   },
   {
    "duration": 3,
    "start_time": "2023-01-25T11:34:09.947Z"
   },
   {
    "duration": 1020,
    "start_time": "2023-01-25T11:34:09.951Z"
   },
   {
    "duration": 1744,
    "start_time": "2023-01-25T11:34:10.972Z"
   },
   {
    "duration": 1223,
    "start_time": "2023-01-25T11:34:12.718Z"
   },
   {
    "duration": 1804,
    "start_time": "2023-01-25T11:34:13.942Z"
   },
   {
    "duration": 108,
    "start_time": "2023-01-25T11:34:15.748Z"
   },
   {
    "duration": 118,
    "start_time": "2023-01-25T11:34:15.858Z"
   },
   {
    "duration": 114,
    "start_time": "2023-01-25T11:58:17.188Z"
   },
   {
    "duration": 205,
    "start_time": "2023-01-25T11:58:21.156Z"
   },
   {
    "duration": 111,
    "start_time": "2023-01-25T11:58:25.452Z"
   },
   {
    "duration": 256,
    "start_time": "2023-01-25T12:31:49.315Z"
   },
   {
    "duration": 241,
    "start_time": "2023-01-25T12:31:59.018Z"
   },
   {
    "duration": 1249,
    "start_time": "2023-01-25T12:32:27.093Z"
   },
   {
    "duration": 1227,
    "start_time": "2023-01-25T12:33:04.873Z"
   },
   {
    "duration": 9,
    "start_time": "2023-01-25T12:34:23.305Z"
   },
   {
    "duration": 1191,
    "start_time": "2023-01-25T12:34:32.928Z"
   },
   {
    "duration": 2218,
    "start_time": "2023-01-25T12:34:36.743Z"
   },
   {
    "duration": 21,
    "start_time": "2023-01-25T12:35:08.964Z"
   },
   {
    "duration": 1284,
    "start_time": "2023-01-25T13:08:57.567Z"
   },
   {
    "duration": 54,
    "start_time": "2023-01-25T13:08:58.853Z"
   },
   {
    "duration": 15,
    "start_time": "2023-01-25T13:08:58.908Z"
   },
   {
    "duration": 53,
    "start_time": "2023-01-25T13:08:58.924Z"
   },
   {
    "duration": 25,
    "start_time": "2023-01-25T13:08:58.979Z"
   },
   {
    "duration": 11,
    "start_time": "2023-01-25T13:08:59.006Z"
   },
   {
    "duration": 46,
    "start_time": "2023-01-25T13:08:59.018Z"
   },
   {
    "duration": 275,
    "start_time": "2023-01-25T13:08:59.066Z"
   },
   {
    "duration": 1231,
    "start_time": "2023-01-25T13:08:59.343Z"
   },
   {
    "duration": 2288,
    "start_time": "2023-01-25T13:09:00.575Z"
   },
   {
    "duration": 25,
    "start_time": "2023-01-25T13:09:02.864Z"
   },
   {
    "duration": 210,
    "start_time": "2023-01-25T13:09:02.890Z"
   },
   {
    "duration": 1667,
    "start_time": "2023-01-25T13:09:03.101Z"
   },
   {
    "duration": 2873,
    "start_time": "2023-01-25T13:09:04.771Z"
   },
   {
    "duration": 4,
    "start_time": "2023-01-25T13:09:07.645Z"
   },
   {
    "duration": 1073,
    "start_time": "2023-01-25T13:09:07.651Z"
   },
   {
    "duration": 1814,
    "start_time": "2023-01-25T13:09:08.725Z"
   },
   {
    "duration": 1236,
    "start_time": "2023-01-25T13:09:10.541Z"
   },
   {
    "duration": 1880,
    "start_time": "2023-01-25T13:09:11.778Z"
   },
   {
    "duration": 109,
    "start_time": "2023-01-25T13:09:13.660Z"
   },
   {
    "duration": 125,
    "start_time": "2023-01-25T13:09:13.771Z"
   },
   {
    "duration": 2265,
    "start_time": "2023-01-25T13:10:53.106Z"
   },
   {
    "duration": 2456,
    "start_time": "2023-01-25T13:11:15.631Z"
   },
   {
    "duration": 1591,
    "start_time": "2023-01-25T13:11:29.859Z"
   },
   {
    "duration": 1900,
    "start_time": "2023-01-25T13:11:35.483Z"
   },
   {
    "duration": 1650,
    "start_time": "2023-01-25T13:13:37.582Z"
   },
   {
    "duration": 2766,
    "start_time": "2023-01-25T13:13:41.117Z"
   },
   {
    "duration": 1214,
    "start_time": "2023-01-25T13:14:10.138Z"
   },
   {
    "duration": 54,
    "start_time": "2023-01-25T13:14:11.354Z"
   },
   {
    "duration": 14,
    "start_time": "2023-01-25T13:14:11.409Z"
   },
   {
    "duration": 22,
    "start_time": "2023-01-25T13:14:11.425Z"
   },
   {
    "duration": 24,
    "start_time": "2023-01-25T13:14:11.448Z"
   },
   {
    "duration": 17,
    "start_time": "2023-01-25T13:14:11.473Z"
   },
   {
    "duration": 13,
    "start_time": "2023-01-25T13:14:11.492Z"
   },
   {
    "duration": 268,
    "start_time": "2023-01-25T13:14:11.506Z"
   },
   {
    "duration": 1254,
    "start_time": "2023-01-25T13:14:11.775Z"
   },
   {
    "duration": 2288,
    "start_time": "2023-01-25T13:14:13.031Z"
   },
   {
    "duration": 20,
    "start_time": "2023-01-25T13:14:15.320Z"
   },
   {
    "duration": 6,
    "start_time": "2023-01-25T13:14:15.388Z"
   },
   {
    "duration": 1726,
    "start_time": "2023-01-25T13:14:15.485Z"
   },
   {
    "duration": 2825,
    "start_time": "2023-01-25T13:14:17.213Z"
   },
   {
    "duration": 4,
    "start_time": "2023-01-25T13:14:20.039Z"
   },
   {
    "duration": 1108,
    "start_time": "2023-01-25T13:14:20.045Z"
   },
   {
    "duration": 1809,
    "start_time": "2023-01-25T13:14:21.154Z"
   },
   {
    "duration": 1245,
    "start_time": "2023-01-25T13:14:22.965Z"
   },
   {
    "duration": 1907,
    "start_time": "2023-01-25T13:14:24.211Z"
   },
   {
    "duration": 110,
    "start_time": "2023-01-25T13:14:26.119Z"
   },
   {
    "duration": 121,
    "start_time": "2023-01-25T13:14:26.230Z"
   },
   {
    "duration": 44,
    "start_time": "2023-01-29T10:22:30.365Z"
   },
   {
    "duration": 1579,
    "start_time": "2023-01-29T10:30:25.048Z"
   },
   {
    "duration": 83,
    "start_time": "2023-01-29T10:34:09.574Z"
   },
   {
    "duration": 4,
    "start_time": "2023-01-29T10:34:21.146Z"
   },
   {
    "duration": 291,
    "start_time": "2023-01-29T10:34:21.153Z"
   },
   {
    "duration": 28,
    "start_time": "2023-01-29T10:34:21.446Z"
   },
   {
    "duration": 16,
    "start_time": "2023-01-29T10:34:23.977Z"
   },
   {
    "duration": 4,
    "start_time": "2023-01-29T10:58:35.063Z"
   },
   {
    "duration": 8,
    "start_time": "2023-01-29T11:07:26.122Z"
   },
   {
    "duration": 3,
    "start_time": "2023-01-29T11:07:30.297Z"
   },
   {
    "duration": 8,
    "start_time": "2023-01-29T11:07:34.082Z"
   },
   {
    "duration": 23,
    "start_time": "2023-01-29T11:07:39.781Z"
   },
   {
    "duration": 44,
    "start_time": "2023-01-29T11:08:39.782Z"
   },
   {
    "duration": 1233,
    "start_time": "2023-01-29T11:09:11.699Z"
   },
   {
    "duration": 63,
    "start_time": "2023-01-29T11:09:12.934Z"
   },
   {
    "duration": 15,
    "start_time": "2023-01-29T11:09:12.998Z"
   },
   {
    "duration": 54,
    "start_time": "2023-01-29T11:09:13.015Z"
   },
   {
    "duration": 133,
    "start_time": "2023-01-29T11:10:56.398Z"
   },
   {
    "duration": 5,
    "start_time": "2023-01-29T11:11:38.554Z"
   },
   {
    "duration": 4,
    "start_time": "2023-01-29T11:11:50.786Z"
   },
   {
    "duration": 42,
    "start_time": "2023-01-29T11:12:01.794Z"
   },
   {
    "duration": 5,
    "start_time": "2023-01-29T11:12:21.742Z"
   },
   {
    "duration": 13,
    "start_time": "2023-01-29T11:29:35.141Z"
   },
   {
    "duration": 11,
    "start_time": "2023-01-29T11:29:48.331Z"
   },
   {
    "duration": 16,
    "start_time": "2023-01-29T11:29:57.996Z"
   },
   {
    "duration": 343,
    "start_time": "2023-01-29T11:31:38.637Z"
   },
   {
    "duration": 50,
    "start_time": "2023-01-29T11:31:57.644Z"
   },
   {
    "duration": 23,
    "start_time": "2023-01-29T11:32:37.450Z"
   },
   {
    "duration": 14,
    "start_time": "2023-01-29T11:32:48.068Z"
   },
   {
    "duration": 22,
    "start_time": "2023-01-29T11:32:56.536Z"
   },
   {
    "duration": 34,
    "start_time": "2023-01-29T11:39:31.880Z"
   },
   {
    "duration": 36,
    "start_time": "2023-01-29T11:40:32.531Z"
   },
   {
    "duration": 11,
    "start_time": "2023-01-29T11:40:44.527Z"
   },
   {
    "duration": 13,
    "start_time": "2023-01-29T11:40:58.818Z"
   },
   {
    "duration": 43,
    "start_time": "2023-01-29T11:41:38.998Z"
   },
   {
    "duration": 25,
    "start_time": "2023-01-29T11:45:12.934Z"
   },
   {
    "duration": 39,
    "start_time": "2023-01-29T11:45:30.057Z"
   },
   {
    "duration": 45,
    "start_time": "2023-01-29T11:46:27.901Z"
   },
   {
    "duration": 45,
    "start_time": "2023-01-29T11:47:27.564Z"
   },
   {
    "duration": 46,
    "start_time": "2023-01-29T11:47:33.768Z"
   },
   {
    "duration": 21,
    "start_time": "2023-01-29T11:48:25.288Z"
   },
   {
    "duration": 43,
    "start_time": "2023-01-29T11:48:33.727Z"
   },
   {
    "duration": 50,
    "start_time": "2023-01-29T11:48:40.889Z"
   },
   {
    "duration": 39,
    "start_time": "2023-01-29T11:49:03.894Z"
   },
   {
    "duration": 44,
    "start_time": "2023-01-29T11:49:12.075Z"
   },
   {
    "duration": 37,
    "start_time": "2023-01-29T11:49:25.668Z"
   },
   {
    "duration": 33,
    "start_time": "2023-01-29T11:49:32.792Z"
   },
   {
    "duration": 39,
    "start_time": "2023-01-29T11:49:57.324Z"
   },
   {
    "duration": 40,
    "start_time": "2023-01-29T11:51:50.548Z"
   },
   {
    "duration": 44,
    "start_time": "2023-01-29T11:51:59.625Z"
   },
   {
    "duration": 38,
    "start_time": "2023-01-29T11:55:18.126Z"
   },
   {
    "duration": 4,
    "start_time": "2023-01-29T11:57:09.677Z"
   },
   {
    "duration": 4,
    "start_time": "2023-01-29T11:57:45.374Z"
   },
   {
    "duration": 11,
    "start_time": "2023-01-29T11:59:38.864Z"
   },
   {
    "duration": 7,
    "start_time": "2023-01-29T12:00:50.364Z"
   },
   {
    "duration": 5,
    "start_time": "2023-01-29T12:01:20.618Z"
   },
   {
    "duration": 9,
    "start_time": "2023-01-29T12:01:28.062Z"
   },
   {
    "duration": 1381,
    "start_time": "2023-01-29T12:01:48.075Z"
   },
   {
    "duration": 68,
    "start_time": "2023-01-29T12:01:49.458Z"
   },
   {
    "duration": 15,
    "start_time": "2023-01-29T12:01:49.527Z"
   },
   {
    "duration": 56,
    "start_time": "2023-01-29T12:01:49.544Z"
   },
   {
    "duration": 5,
    "start_time": "2023-01-29T12:01:49.602Z"
   },
   {
    "duration": 31,
    "start_time": "2023-01-29T12:01:49.608Z"
   },
   {
    "duration": 62,
    "start_time": "2023-01-29T12:01:49.640Z"
   },
   {
    "duration": 5,
    "start_time": "2023-01-29T12:01:49.704Z"
   },
   {
    "duration": 115,
    "start_time": "2023-01-29T12:04:20.652Z"
   },
   {
    "duration": 18,
    "start_time": "2023-01-29T12:04:42.223Z"
   },
   {
    "duration": 17,
    "start_time": "2023-01-29T12:04:45.962Z"
   },
   {
    "duration": 8,
    "start_time": "2023-01-29T12:05:26.752Z"
   },
   {
    "duration": 20,
    "start_time": "2023-01-29T12:05:59.552Z"
   },
   {
    "duration": 8,
    "start_time": "2023-01-29T12:06:47.447Z"
   },
   {
    "duration": 40,
    "start_time": "2023-01-29T12:08:18.205Z"
   },
   {
    "duration": 27,
    "start_time": "2023-01-29T12:08:47.072Z"
   },
   {
    "duration": 28,
    "start_time": "2023-01-29T12:09:03.110Z"
   },
   {
    "duration": 4,
    "start_time": "2023-01-29T12:10:23.223Z"
   },
   {
    "duration": 56,
    "start_time": "2023-01-29T12:23:01.357Z"
   },
   {
    "duration": 15,
    "start_time": "2023-01-29T12:24:33.428Z"
   },
   {
    "duration": 29,
    "start_time": "2023-01-29T12:24:35.819Z"
   },
   {
    "duration": 5,
    "start_time": "2023-01-29T12:24:43.176Z"
   },
   {
    "duration": 9,
    "start_time": "2023-01-29T12:24:45.850Z"
   },
   {
    "duration": 70,
    "start_time": "2023-01-29T12:24:47.669Z"
   },
   {
    "duration": 8,
    "start_time": "2023-01-29T12:26:18.224Z"
   },
   {
    "duration": 17,
    "start_time": "2023-01-29T12:27:15.753Z"
   },
   {
    "duration": 42,
    "start_time": "2023-01-29T12:27:24.585Z"
   },
   {
    "duration": 5,
    "start_time": "2023-01-29T12:27:28.485Z"
   },
   {
    "duration": 8,
    "start_time": "2023-01-29T12:27:31.747Z"
   },
   {
    "duration": 83,
    "start_time": "2023-01-29T12:27:33.459Z"
   },
   {
    "duration": 6,
    "start_time": "2023-01-29T12:27:42.794Z"
   },
   {
    "duration": 338,
    "start_time": "2023-01-29T12:27:49.154Z"
   },
   {
    "duration": 28126,
    "start_time": "2023-01-29T12:28:14.742Z"
   },
   {
    "duration": 31790,
    "start_time": "2023-01-29T12:31:21.135Z"
   },
   {
    "duration": 402,
    "start_time": "2023-01-29T12:32:35.858Z"
   },
   {
    "duration": 393,
    "start_time": "2023-01-29T12:32:47.470Z"
   },
   {
    "duration": 29,
    "start_time": "2023-01-29T12:33:40.042Z"
   },
   {
    "duration": 4,
    "start_time": "2023-01-29T12:36:00.429Z"
   },
   {
    "duration": 11,
    "start_time": "2023-01-29T12:38:53.843Z"
   },
   {
    "duration": 485,
    "start_time": "2023-01-29T12:39:41.133Z"
   },
   {
    "duration": 31510,
    "start_time": "2023-01-29T12:41:00.078Z"
   },
   {
    "duration": 42228,
    "start_time": "2023-01-29T12:41:53.332Z"
   },
   {
    "duration": 45,
    "start_time": "2023-01-29T12:43:15.406Z"
   },
   {
    "duration": 8,
    "start_time": "2023-01-29T12:44:56.970Z"
   },
   {
    "duration": 4,
    "start_time": "2023-01-29T12:44:59.536Z"
   },
   {
    "duration": 11,
    "start_time": "2023-01-29T12:45:01.728Z"
   },
   {
    "duration": 473,
    "start_time": "2023-01-29T12:45:06.437Z"
   },
   {
    "duration": 328,
    "start_time": "2023-01-29T12:46:52.471Z"
   },
   {
    "duration": 27557,
    "start_time": "2023-01-29T12:48:25.342Z"
   },
   {
    "duration": 53,
    "start_time": "2023-01-29T12:48:52.901Z"
   },
   {
    "duration": 396,
    "start_time": "2023-01-29T12:52:44.548Z"
   },
   {
    "duration": 34082,
    "start_time": "2023-01-29T12:53:51.332Z"
   },
   {
    "duration": 135,
    "start_time": "2023-01-29T12:54:25.417Z"
   },
   {
    "duration": 10,
    "start_time": "2023-01-29T13:10:30.474Z"
   },
   {
    "duration": 13,
    "start_time": "2023-01-29T13:13:13.434Z"
   },
   {
    "duration": 4,
    "start_time": "2023-01-29T13:13:35.133Z"
   },
   {
    "duration": 11,
    "start_time": "2023-01-29T13:13:53.650Z"
   },
   {
    "duration": 14,
    "start_time": "2023-01-29T13:14:33.346Z"
   },
   {
    "duration": 6,
    "start_time": "2023-01-29T13:15:21.746Z"
   },
   {
    "duration": 12,
    "start_time": "2023-01-29T13:15:38.877Z"
   },
   {
    "duration": 10,
    "start_time": "2023-01-29T13:15:52.046Z"
   },
   {
    "duration": 10,
    "start_time": "2023-01-29T13:17:03.434Z"
   },
   {
    "duration": 14,
    "start_time": "2023-01-29T13:29:22.464Z"
   },
   {
    "duration": 41490,
    "start_time": "2023-01-29T13:33:25.143Z"
   },
   {
    "duration": 31514,
    "start_time": "2023-01-29T13:34:39.327Z"
   },
   {
    "duration": 1354,
    "start_time": "2023-01-29T13:35:34.022Z"
   },
   {
    "duration": 86,
    "start_time": "2023-01-29T13:35:35.378Z"
   },
   {
    "duration": 19,
    "start_time": "2023-01-29T13:35:35.465Z"
   },
   {
    "duration": 28,
    "start_time": "2023-01-29T13:35:35.486Z"
   },
   {
    "duration": 3,
    "start_time": "2023-01-29T13:35:35.516Z"
   },
   {
    "duration": 25,
    "start_time": "2023-01-29T13:35:35.521Z"
   },
   {
    "duration": 72,
    "start_time": "2023-01-29T13:35:35.550Z"
   },
   {
    "duration": 6,
    "start_time": "2023-01-29T13:35:35.623Z"
   },
   {
    "duration": 439,
    "start_time": "2023-01-29T13:35:35.630Z"
   },
   {
    "duration": 31944,
    "start_time": "2023-01-29T13:35:36.071Z"
   },
   {
    "duration": 137,
    "start_time": "2023-01-29T13:36:08.017Z"
   },
   {
    "duration": 13,
    "start_time": "2023-01-29T13:36:08.157Z"
   },
   {
    "duration": 27,
    "start_time": "2023-01-29T13:36:08.251Z"
   },
   {
    "duration": 487,
    "start_time": "2023-01-29T13:36:08.282Z"
   },
   {
    "duration": 41967,
    "start_time": "2023-01-29T13:36:08.771Z"
   },
   {
    "duration": 115,
    "start_time": "2023-01-29T13:36:50.740Z"
   },
   {
    "duration": 7,
    "start_time": "2023-01-29T13:36:50.862Z"
   },
   {
    "duration": 28,
    "start_time": "2023-01-29T13:36:50.950Z"
   },
   {
    "duration": 347,
    "start_time": "2023-01-29T13:36:50.980Z"
   },
   {
    "duration": 26889,
    "start_time": "2023-01-29T13:36:51.328Z"
   },
   {
    "duration": 36,
    "start_time": "2023-01-29T13:37:18.219Z"
   },
   {
    "duration": 648,
    "start_time": "2023-01-29T13:37:18.256Z"
   },
   {
    "duration": 31296,
    "start_time": "2023-01-29T13:37:18.906Z"
   },
   {
    "duration": 61,
    "start_time": "2023-01-29T13:37:50.203Z"
   },
   {
    "duration": 89,
    "start_time": "2023-01-29T13:37:50.269Z"
   },
   {
    "duration": 112,
    "start_time": "2023-01-29T13:37:50.362Z"
   },
   {
    "duration": 128,
    "start_time": "2023-01-29T13:37:50.476Z"
   },
   {
    "duration": 131,
    "start_time": "2023-01-29T13:37:50.605Z"
   },
   {
    "duration": 577,
    "start_time": "2023-01-29T13:41:12.471Z"
   },
   {
    "duration": 164,
    "start_time": "2023-01-29T13:41:27.334Z"
   },
   {
    "duration": 1263,
    "start_time": "2023-01-29T13:54:16.769Z"
   },
   {
    "duration": 64,
    "start_time": "2023-01-29T13:54:18.034Z"
   },
   {
    "duration": 19,
    "start_time": "2023-01-29T13:54:18.099Z"
   },
   {
    "duration": 43,
    "start_time": "2023-01-29T13:54:18.121Z"
   },
   {
    "duration": 4,
    "start_time": "2023-01-29T13:54:18.167Z"
   },
   {
    "duration": 10,
    "start_time": "2023-01-29T13:54:18.172Z"
   },
   {
    "duration": 83,
    "start_time": "2023-01-29T13:54:18.184Z"
   },
   {
    "duration": 6,
    "start_time": "2023-01-29T13:54:18.268Z"
   },
   {
    "duration": 392,
    "start_time": "2023-01-29T13:54:18.275Z"
   },
   {
    "duration": 30741,
    "start_time": "2023-01-29T13:54:18.670Z"
   },
   {
    "duration": 46,
    "start_time": "2023-01-29T13:54:49.413Z"
   },
   {
    "duration": 92,
    "start_time": "2023-01-29T13:54:49.461Z"
   },
   {
    "duration": 103,
    "start_time": "2023-01-29T13:54:49.554Z"
   },
   {
    "duration": 483,
    "start_time": "2023-01-29T13:54:49.658Z"
   },
   {
    "duration": 40257,
    "start_time": "2023-01-29T13:54:50.143Z"
   },
   {
    "duration": 52,
    "start_time": "2023-01-29T13:55:30.401Z"
   },
   {
    "duration": 94,
    "start_time": "2023-01-29T13:55:30.459Z"
   },
   {
    "duration": 122,
    "start_time": "2023-01-29T13:55:30.555Z"
   },
   {
    "duration": 373,
    "start_time": "2023-01-29T13:55:30.679Z"
   },
   {
    "duration": 26187,
    "start_time": "2023-01-29T13:55:31.053Z"
   },
   {
    "duration": 32,
    "start_time": "2023-01-29T13:55:57.242Z"
   },
   {
    "duration": 587,
    "start_time": "2023-01-29T13:55:57.275Z"
   },
   {
    "duration": 30311,
    "start_time": "2023-01-29T13:55:57.864Z"
   },
   {
    "duration": 176,
    "start_time": "2023-01-29T13:56:28.176Z"
   },
   {
    "duration": 102,
    "start_time": "2023-01-29T13:56:28.354Z"
   },
   {
    "duration": 35,
    "start_time": "2023-01-29T13:56:28.457Z"
   },
   {
    "duration": 574,
    "start_time": "2023-01-29T13:56:28.493Z"
   },
   {
    "duration": 157,
    "start_time": "2023-01-29T13:56:29.070Z"
   },
   {
    "duration": 1697,
    "start_time": "2023-01-31T16:20:23.531Z"
   },
   {
    "duration": 107,
    "start_time": "2023-01-31T16:20:25.230Z"
   },
   {
    "duration": 30,
    "start_time": "2023-01-31T16:20:25.339Z"
   },
   {
    "duration": 129,
    "start_time": "2023-01-31T16:20:25.371Z"
   },
   {
    "duration": 0,
    "start_time": "2023-01-31T16:20:25.502Z"
   },
   {
    "duration": 0,
    "start_time": "2023-01-31T16:20:25.504Z"
   },
   {
    "duration": 0,
    "start_time": "2023-01-31T16:20:25.505Z"
   },
   {
    "duration": 4,
    "start_time": "2023-01-31T16:20:49.113Z"
   },
   {
    "duration": 76,
    "start_time": "2023-01-31T16:20:49.120Z"
   },
   {
    "duration": 16,
    "start_time": "2023-01-31T16:20:49.198Z"
   },
   {
    "duration": 3,
    "start_time": "2023-01-31T16:20:49.216Z"
   },
   {
    "duration": 16,
    "start_time": "2023-01-31T16:20:49.221Z"
   },
   {
    "duration": 0,
    "start_time": "2023-01-31T16:20:49.239Z"
   },
   {
    "duration": 0,
    "start_time": "2023-01-31T16:20:49.240Z"
   },
   {
    "duration": 4,
    "start_time": "2023-01-31T16:21:18.757Z"
   },
   {
    "duration": 65,
    "start_time": "2023-01-31T16:21:18.763Z"
   },
   {
    "duration": 17,
    "start_time": "2023-01-31T16:21:18.829Z"
   },
   {
    "duration": 2,
    "start_time": "2023-01-31T16:21:18.848Z"
   },
   {
    "duration": 16,
    "start_time": "2023-01-31T16:21:18.852Z"
   },
   {
    "duration": 0,
    "start_time": "2023-01-31T16:21:18.870Z"
   },
   {
    "duration": 0,
    "start_time": "2023-01-31T16:21:18.871Z"
   },
   {
    "duration": 6,
    "start_time": "2023-01-31T16:21:36.375Z"
   },
   {
    "duration": 10,
    "start_time": "2023-01-31T16:21:40.592Z"
   },
   {
    "duration": 40,
    "start_time": "2023-01-31T16:21:44.562Z"
   },
   {
    "duration": 48,
    "start_time": "2023-01-31T16:22:03.978Z"
   },
   {
    "duration": 38,
    "start_time": "2023-01-31T16:22:41.677Z"
   },
   {
    "duration": 1486,
    "start_time": "2023-01-31T16:25:13.655Z"
   },
   {
    "duration": 66,
    "start_time": "2023-01-31T16:25:15.143Z"
   },
   {
    "duration": 19,
    "start_time": "2023-01-31T16:25:15.212Z"
   },
   {
    "duration": 18,
    "start_time": "2023-01-31T16:25:15.233Z"
   },
   {
    "duration": 39,
    "start_time": "2023-01-31T16:25:15.253Z"
   },
   {
    "duration": 37,
    "start_time": "2023-01-31T16:25:15.295Z"
   },
   {
    "duration": 38,
    "start_time": "2023-01-31T16:25:15.333Z"
   },
   {
    "duration": 42,
    "start_time": "2023-01-31T16:25:15.373Z"
   },
   {
    "duration": 153,
    "start_time": "2023-01-31T16:25:15.417Z"
   },
   {
    "duration": 21,
    "start_time": "2023-01-31T16:25:47.847Z"
   },
   {
    "duration": 17,
    "start_time": "2023-01-31T16:25:52.903Z"
   },
   {
    "duration": 28,
    "start_time": "2023-01-31T16:26:18.406Z"
   },
   {
    "duration": 7,
    "start_time": "2023-01-31T16:28:13.409Z"
   },
   {
    "duration": 26,
    "start_time": "2023-01-31T16:28:16.107Z"
   },
   {
    "duration": 35,
    "start_time": "2023-01-31T16:28:26.293Z"
   },
   {
    "duration": 21,
    "start_time": "2023-01-31T16:29:38.308Z"
   },
   {
    "duration": 6,
    "start_time": "2023-01-31T16:29:54.867Z"
   },
   {
    "duration": 23,
    "start_time": "2023-01-31T16:29:57.245Z"
   },
   {
    "duration": 7,
    "start_time": "2023-01-31T16:31:37.910Z"
   },
   {
    "duration": 23,
    "start_time": "2023-01-31T16:32:30.856Z"
   },
   {
    "duration": 26,
    "start_time": "2023-01-31T16:33:26.768Z"
   },
   {
    "duration": 16,
    "start_time": "2023-01-31T16:33:41.410Z"
   },
   {
    "duration": 17,
    "start_time": "2023-01-31T16:33:57.069Z"
   },
   {
    "duration": 18,
    "start_time": "2023-01-31T16:34:28.803Z"
   },
   {
    "duration": 20,
    "start_time": "2023-01-31T16:34:41.789Z"
   },
   {
    "duration": 30,
    "start_time": "2023-01-31T16:34:50.309Z"
   },
   {
    "duration": 39,
    "start_time": "2023-01-31T16:35:22.155Z"
   },
   {
    "duration": 34,
    "start_time": "2023-01-31T16:36:03.360Z"
   },
   {
    "duration": 35,
    "start_time": "2023-01-31T16:36:15.695Z"
   },
   {
    "duration": 1392,
    "start_time": "2023-01-31T16:38:00.236Z"
   },
   {
    "duration": 61,
    "start_time": "2023-01-31T16:38:01.630Z"
   },
   {
    "duration": 19,
    "start_time": "2023-01-31T16:38:01.693Z"
   },
   {
    "duration": 44,
    "start_time": "2023-01-31T16:38:01.714Z"
   },
   {
    "duration": 59,
    "start_time": "2023-01-31T16:38:01.760Z"
   },
   {
    "duration": 59,
    "start_time": "2023-01-31T16:38:01.821Z"
   },
   {
    "duration": 41,
    "start_time": "2023-01-31T16:38:01.882Z"
   },
   {
    "duration": 89,
    "start_time": "2023-01-31T16:38:01.925Z"
   },
   {
    "duration": 45,
    "start_time": "2023-01-31T16:38:02.016Z"
   },
   {
    "duration": 72,
    "start_time": "2023-01-31T16:38:02.063Z"
   },
   {
    "duration": 19,
    "start_time": "2023-01-31T16:40:19.331Z"
   },
   {
    "duration": 1431,
    "start_time": "2023-01-31T16:43:03.162Z"
   },
   {
    "duration": 62,
    "start_time": "2023-01-31T16:43:04.595Z"
   },
   {
    "duration": 22,
    "start_time": "2023-01-31T16:43:04.659Z"
   },
   {
    "duration": 3,
    "start_time": "2023-01-31T16:43:04.683Z"
   },
   {
    "duration": 28,
    "start_time": "2023-01-31T16:43:04.688Z"
   },
   {
    "duration": 20,
    "start_time": "2023-01-31T16:43:04.717Z"
   },
   {
    "duration": 3,
    "start_time": "2023-01-31T16:43:04.739Z"
   },
   {
    "duration": 37,
    "start_time": "2023-01-31T16:43:04.743Z"
   },
   {
    "duration": 15,
    "start_time": "2023-01-31T16:43:04.782Z"
   },
   {
    "duration": 49,
    "start_time": "2023-01-31T16:43:04.799Z"
   },
   {
    "duration": 9,
    "start_time": "2023-01-31T16:44:41.109Z"
   },
   {
    "duration": 16,
    "start_time": "2023-01-31T16:44:55.773Z"
   },
   {
    "duration": 25,
    "start_time": "2023-01-31T16:49:29.959Z"
   },
   {
    "duration": 23,
    "start_time": "2023-01-31T16:52:17.397Z"
   },
   {
    "duration": 35,
    "start_time": "2023-01-31T16:52:33.812Z"
   },
   {
    "duration": 35,
    "start_time": "2023-01-31T16:54:45.287Z"
   },
   {
    "duration": 23,
    "start_time": "2023-01-31T16:54:57.701Z"
   },
   {
    "duration": 23,
    "start_time": "2023-01-31T16:55:07.154Z"
   },
   {
    "duration": 23,
    "start_time": "2023-01-31T16:55:10.410Z"
   },
   {
    "duration": 1339,
    "start_time": "2023-01-31T16:56:19.569Z"
   },
   {
    "duration": 59,
    "start_time": "2023-01-31T16:56:20.910Z"
   },
   {
    "duration": 17,
    "start_time": "2023-01-31T16:56:20.970Z"
   },
   {
    "duration": 2,
    "start_time": "2023-01-31T16:56:20.989Z"
   },
   {
    "duration": 27,
    "start_time": "2023-01-31T16:56:20.993Z"
   },
   {
    "duration": 13,
    "start_time": "2023-01-31T16:56:21.022Z"
   },
   {
    "duration": 6,
    "start_time": "2023-01-31T16:56:21.037Z"
   },
   {
    "duration": 16,
    "start_time": "2023-01-31T16:56:21.045Z"
   },
   {
    "duration": 24,
    "start_time": "2023-01-31T16:56:21.063Z"
   },
   {
    "duration": 28,
    "start_time": "2023-01-31T16:56:21.090Z"
   },
   {
    "duration": 23,
    "start_time": "2023-01-31T16:56:21.121Z"
   },
   {
    "duration": 22,
    "start_time": "2023-01-31T16:57:46.087Z"
   },
   {
    "duration": 21,
    "start_time": "2023-01-31T16:57:52.271Z"
   },
   {
    "duration": 6,
    "start_time": "2023-01-31T16:58:24.948Z"
   },
   {
    "duration": 1487,
    "start_time": "2023-01-31T17:00:42.882Z"
   },
   {
    "duration": 62,
    "start_time": "2023-01-31T17:00:44.372Z"
   },
   {
    "duration": 18,
    "start_time": "2023-01-31T17:00:44.435Z"
   },
   {
    "duration": 6,
    "start_time": "2023-01-31T17:00:44.454Z"
   },
   {
    "duration": 39,
    "start_time": "2023-01-31T17:00:44.462Z"
   },
   {
    "duration": 13,
    "start_time": "2023-01-31T17:00:44.502Z"
   },
   {
    "duration": 54,
    "start_time": "2023-01-31T17:00:44.516Z"
   },
   {
    "duration": 41,
    "start_time": "2023-01-31T17:00:44.572Z"
   },
   {
    "duration": 43,
    "start_time": "2023-01-31T17:00:44.614Z"
   },
   {
    "duration": 88,
    "start_time": "2023-01-31T17:00:44.659Z"
   },
   {
    "duration": 7,
    "start_time": "2023-01-31T17:00:44.748Z"
   },
   {
    "duration": 405,
    "start_time": "2023-01-31T17:00:44.757Z"
   },
   {
    "duration": 29549,
    "start_time": "2023-01-31T17:00:45.164Z"
   },
   {
    "duration": 83,
    "start_time": "2023-01-31T17:01:14.716Z"
   },
   {
    "duration": 7,
    "start_time": "2023-01-31T17:01:14.800Z"
   },
   {
    "duration": 11,
    "start_time": "2023-01-31T17:01:14.894Z"
   },
   {
    "duration": 406,
    "start_time": "2023-01-31T17:01:14.907Z"
   },
   {
    "duration": 39247,
    "start_time": "2023-01-31T17:01:15.315Z"
   },
   {
    "duration": 39,
    "start_time": "2023-01-31T17:01:54.563Z"
   },
   {
    "duration": 91,
    "start_time": "2023-01-31T17:01:54.605Z"
   },
   {
    "duration": 133,
    "start_time": "2023-01-31T17:01:54.698Z"
   },
   {
    "duration": 278,
    "start_time": "2023-01-31T17:01:54.832Z"
   },
   {
    "duration": 25262,
    "start_time": "2023-01-31T17:01:55.112Z"
   },
   {
    "duration": 28,
    "start_time": "2023-01-31T17:02:20.375Z"
   },
   {
    "duration": 419,
    "start_time": "2023-01-31T17:02:20.496Z"
   },
   {
    "duration": 30133,
    "start_time": "2023-01-31T17:02:20.917Z"
   },
   {
    "duration": 50,
    "start_time": "2023-01-31T17:02:51.053Z"
   },
   {
    "duration": 92,
    "start_time": "2023-01-31T17:02:51.106Z"
   },
   {
    "duration": 115,
    "start_time": "2023-01-31T17:02:51.200Z"
   },
   {
    "duration": 660,
    "start_time": "2023-01-31T17:02:51.317Z"
   },
   {
    "duration": 192,
    "start_time": "2023-01-31T17:02:51.979Z"
   },
   {
    "duration": 14,
    "start_time": "2023-01-31T17:20:02.970Z"
   },
   {
    "duration": 10,
    "start_time": "2023-01-31T17:20:32.724Z"
   },
   {
    "duration": 517,
    "start_time": "2023-01-31T17:32:17.018Z"
   },
   {
    "duration": 633,
    "start_time": "2023-01-31T17:32:30.279Z"
   },
   {
    "duration": 731,
    "start_time": "2023-01-31T17:33:00.820Z"
   },
   {
    "duration": 510,
    "start_time": "2023-01-31T17:33:09.662Z"
   },
   {
    "duration": 1265,
    "start_time": "2023-01-31T17:46:21.417Z"
   },
   {
    "duration": 890,
    "start_time": "2023-01-31T17:46:39.417Z"
   },
   {
    "duration": 7,
    "start_time": "2023-01-31T17:46:51.059Z"
   },
   {
    "duration": 30165,
    "start_time": "2023-01-31T17:57:38.557Z"
   },
   {
    "duration": 29819,
    "start_time": "2023-01-31T18:06:20.576Z"
   },
   {
    "duration": 734,
    "start_time": "2023-01-31T18:12:39.626Z"
   },
   {
    "duration": 544,
    "start_time": "2023-01-31T18:13:04.605Z"
   },
   {
    "duration": 481,
    "start_time": "2023-01-31T18:13:19.401Z"
   },
   {
    "duration": 475,
    "start_time": "2023-01-31T18:13:35.449Z"
   },
   {
    "duration": 29925,
    "start_time": "2023-01-31T18:21:29.445Z"
   },
   {
    "duration": 450,
    "start_time": "2023-01-31T18:23:40.763Z"
   }
  ],
  "kernelspec": {
   "display_name": "Python 3 (ipykernel)",
   "language": "python",
   "name": "python3"
  },
  "language_info": {
   "codemirror_mode": {
    "name": "ipython",
    "version": 3
   },
   "file_extension": ".py",
   "mimetype": "text/x-python",
   "name": "python",
   "nbconvert_exporter": "python",
   "pygments_lexer": "ipython3",
   "version": "3.9.12"
  },
  "toc": {
   "base_numbering": 1,
   "nav_menu": {},
   "number_sections": true,
   "sideBar": true,
   "skip_h1_title": true,
   "title_cell": "Содержание",
   "title_sidebar": "Contents",
   "toc_cell": true,
   "toc_position": {
    "height": "calc(100% - 180px)",
    "left": "10px",
    "top": "150px",
    "width": "323.75px"
   },
   "toc_section_display": true,
   "toc_window_display": true
  }
 },
 "nbformat": 4,
 "nbformat_minor": 2
}
